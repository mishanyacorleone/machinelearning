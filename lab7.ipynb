{
  "nbformat": 4,
  "nbformat_minor": 0,
  "metadata": {
    "colab": {
      "provenance": [],
      "mount_file_id": "1wZl7NjnxA1BRggwo1dx1xaAYfRA6Tfvv",
      "authorship_tag": "ABX9TyM88/bpP5y7kpjRF/bH6Auf",
      "include_colab_link": true
    },
    "kernelspec": {
      "name": "python3",
      "display_name": "Python 3"
    },
    "language_info": {
      "name": "python"
    }
  },
  "cells": [
    {
      "cell_type": "markdown",
      "metadata": {
        "id": "view-in-github",
        "colab_type": "text"
      },
      "source": [
        "<a href=\"https://colab.research.google.com/github/mishanyacorleone/machinelearning/blob/main/lab7.ipynb\" target=\"_parent\"><img src=\"https://colab.research.google.com/assets/colab-badge.svg\" alt=\"Open In Colab\"/></a>"
      ]
    },
    {
      "cell_type": "markdown",
      "source": [
        "## Импортируем библиотеки"
      ],
      "metadata": {
        "id": "z62_VvJSVlPt"
      }
    },
    {
      "cell_type": "code",
      "execution_count": null,
      "metadata": {
        "id": "dzibTNgdVSx6"
      },
      "outputs": [],
      "source": [
        "import pandas as pd\n",
        "import numpy as np\n",
        "import seaborn as sns\n",
        "import matplotlib.pyplot as plt\n",
        "import warnings\n",
        "warnings.filterwarnings(\"ignore\")"
      ]
    },
    {
      "cell_type": "code",
      "source": [
        "from google.colab import drive\n",
        "drive.mount('/content/drive')"
      ],
      "metadata": {
        "colab": {
          "base_uri": "https://localhost:8080/"
        },
        "id": "v4HMbApvVwvH",
        "outputId": "f650a8cd-f18b-4a00-e698-5da30a00c79c"
      },
      "execution_count": null,
      "outputs": [
        {
          "output_type": "stream",
          "name": "stdout",
          "text": [
            "Drive already mounted at /content/drive; to attempt to forcibly remount, call drive.mount(\"/content/drive\", force_remount=True).\n"
          ]
        }
      ]
    },
    {
      "cell_type": "markdown",
      "source": [
        "## Начинаем работу с данными"
      ],
      "metadata": {
        "id": "0Dyhb_HwVqYf"
      }
    },
    {
      "cell_type": "markdown",
      "source": [
        "Какие могут быть возможные проблемы с данными, которые мы будем нейтрализовать?\n",
        "1. Runtime может быть аномальным (значения меньше 0, огромные значения)\n",
        "2. IMDB Score может быть аномальным (слишком высокие оценки, нереальные оценки, оценки меньше 0)\n",
        "3. Premiere может быть в тот день, который ещё не наступил. Для этого представим дату в виде unix time"
      ],
      "metadata": {
        "id": "m_7RKeN-h5Zk"
      }
    },
    {
      "cell_type": "markdown",
      "source": [
        "### Устраним проблемы с Runtime"
      ],
      "metadata": {
        "id": "Bk6JDhCgimq4"
      }
    },
    {
      "cell_type": "code",
      "source": [
        "data = pd.read_csv('/content/drive/MyDrive/Colab Notebooks/Анализ/lab7/movie_data.csv')\n",
        "data.head()"
      ],
      "metadata": {
        "colab": {
          "base_uri": "https://localhost:8080/",
          "height": 206
        },
        "id": "xP-0OTcoVk1d",
        "outputId": "48d96965-743b-418b-f17b-11bbf508cd51"
      },
      "execution_count": null,
      "outputs": [
        {
          "output_type": "execute_result",
          "data": {
            "text/plain": [
              "                     Title    Genre           Premiere  Runtime IMDB Score  \\\n",
              "0  Professor Bar Candidate   Comedy  February 03, 2024    144.0        4.3   \n",
              "1      Describe Fill Image  Mystery      June 16, 2021    116.0        4.0   \n",
              "2       Along Interview Me   Horror  December 18, 2021    144.0        1.8   \n",
              "3       Feeling Piece Race   Comedy     March 11, 2024    114.0        4.9   \n",
              "4       Close Imagine True    Drama  November 15, 2021    125.0        1.3   \n",
              "\n",
              "  Language  \n",
              "0    Hindi  \n",
              "1  English  \n",
              "2    Hindi  \n",
              "3  Italian  \n",
              "4  Spanish  "
            ],
            "text/html": [
              "\n",
              "  <div id=\"df-91ea369c-2ec0-47cb-8863-3f893205aa2d\" class=\"colab-df-container\">\n",
              "    <div>\n",
              "<style scoped>\n",
              "    .dataframe tbody tr th:only-of-type {\n",
              "        vertical-align: middle;\n",
              "    }\n",
              "\n",
              "    .dataframe tbody tr th {\n",
              "        vertical-align: top;\n",
              "    }\n",
              "\n",
              "    .dataframe thead th {\n",
              "        text-align: right;\n",
              "    }\n",
              "</style>\n",
              "<table border=\"1\" class=\"dataframe\">\n",
              "  <thead>\n",
              "    <tr style=\"text-align: right;\">\n",
              "      <th></th>\n",
              "      <th>Title</th>\n",
              "      <th>Genre</th>\n",
              "      <th>Premiere</th>\n",
              "      <th>Runtime</th>\n",
              "      <th>IMDB Score</th>\n",
              "      <th>Language</th>\n",
              "    </tr>\n",
              "  </thead>\n",
              "  <tbody>\n",
              "    <tr>\n",
              "      <th>0</th>\n",
              "      <td>Professor Bar Candidate</td>\n",
              "      <td>Comedy</td>\n",
              "      <td>February 03, 2024</td>\n",
              "      <td>144.0</td>\n",
              "      <td>4.3</td>\n",
              "      <td>Hindi</td>\n",
              "    </tr>\n",
              "    <tr>\n",
              "      <th>1</th>\n",
              "      <td>Describe Fill Image</td>\n",
              "      <td>Mystery</td>\n",
              "      <td>June 16, 2021</td>\n",
              "      <td>116.0</td>\n",
              "      <td>4.0</td>\n",
              "      <td>English</td>\n",
              "    </tr>\n",
              "    <tr>\n",
              "      <th>2</th>\n",
              "      <td>Along Interview Me</td>\n",
              "      <td>Horror</td>\n",
              "      <td>December 18, 2021</td>\n",
              "      <td>144.0</td>\n",
              "      <td>1.8</td>\n",
              "      <td>Hindi</td>\n",
              "    </tr>\n",
              "    <tr>\n",
              "      <th>3</th>\n",
              "      <td>Feeling Piece Race</td>\n",
              "      <td>Comedy</td>\n",
              "      <td>March 11, 2024</td>\n",
              "      <td>114.0</td>\n",
              "      <td>4.9</td>\n",
              "      <td>Italian</td>\n",
              "    </tr>\n",
              "    <tr>\n",
              "      <th>4</th>\n",
              "      <td>Close Imagine True</td>\n",
              "      <td>Drama</td>\n",
              "      <td>November 15, 2021</td>\n",
              "      <td>125.0</td>\n",
              "      <td>1.3</td>\n",
              "      <td>Spanish</td>\n",
              "    </tr>\n",
              "  </tbody>\n",
              "</table>\n",
              "</div>\n",
              "    <div class=\"colab-df-buttons\">\n",
              "\n",
              "  <div class=\"colab-df-container\">\n",
              "    <button class=\"colab-df-convert\" onclick=\"convertToInteractive('df-91ea369c-2ec0-47cb-8863-3f893205aa2d')\"\n",
              "            title=\"Convert this dataframe to an interactive table.\"\n",
              "            style=\"display:none;\">\n",
              "\n",
              "  <svg xmlns=\"http://www.w3.org/2000/svg\" height=\"24px\" viewBox=\"0 -960 960 960\">\n",
              "    <path d=\"M120-120v-720h720v720H120Zm60-500h600v-160H180v160Zm220 220h160v-160H400v160Zm0 220h160v-160H400v160ZM180-400h160v-160H180v160Zm440 0h160v-160H620v160ZM180-180h160v-160H180v160Zm440 0h160v-160H620v160Z\"/>\n",
              "  </svg>\n",
              "    </button>\n",
              "\n",
              "  <style>\n",
              "    .colab-df-container {\n",
              "      display:flex;\n",
              "      gap: 12px;\n",
              "    }\n",
              "\n",
              "    .colab-df-convert {\n",
              "      background-color: #E8F0FE;\n",
              "      border: none;\n",
              "      border-radius: 50%;\n",
              "      cursor: pointer;\n",
              "      display: none;\n",
              "      fill: #1967D2;\n",
              "      height: 32px;\n",
              "      padding: 0 0 0 0;\n",
              "      width: 32px;\n",
              "    }\n",
              "\n",
              "    .colab-df-convert:hover {\n",
              "      background-color: #E2EBFA;\n",
              "      box-shadow: 0px 1px 2px rgba(60, 64, 67, 0.3), 0px 1px 3px 1px rgba(60, 64, 67, 0.15);\n",
              "      fill: #174EA6;\n",
              "    }\n",
              "\n",
              "    .colab-df-buttons div {\n",
              "      margin-bottom: 4px;\n",
              "    }\n",
              "\n",
              "    [theme=dark] .colab-df-convert {\n",
              "      background-color: #3B4455;\n",
              "      fill: #D2E3FC;\n",
              "    }\n",
              "\n",
              "    [theme=dark] .colab-df-convert:hover {\n",
              "      background-color: #434B5C;\n",
              "      box-shadow: 0px 1px 3px 1px rgba(0, 0, 0, 0.15);\n",
              "      filter: drop-shadow(0px 1px 2px rgba(0, 0, 0, 0.3));\n",
              "      fill: #FFFFFF;\n",
              "    }\n",
              "  </style>\n",
              "\n",
              "    <script>\n",
              "      const buttonEl =\n",
              "        document.querySelector('#df-91ea369c-2ec0-47cb-8863-3f893205aa2d button.colab-df-convert');\n",
              "      buttonEl.style.display =\n",
              "        google.colab.kernel.accessAllowed ? 'block' : 'none';\n",
              "\n",
              "      async function convertToInteractive(key) {\n",
              "        const element = document.querySelector('#df-91ea369c-2ec0-47cb-8863-3f893205aa2d');\n",
              "        const dataTable =\n",
              "          await google.colab.kernel.invokeFunction('convertToInteractive',\n",
              "                                                    [key], {});\n",
              "        if (!dataTable) return;\n",
              "\n",
              "        const docLinkHtml = 'Like what you see? Visit the ' +\n",
              "          '<a target=\"_blank\" href=https://colab.research.google.com/notebooks/data_table.ipynb>data table notebook</a>'\n",
              "          + ' to learn more about interactive tables.';\n",
              "        element.innerHTML = '';\n",
              "        dataTable['output_type'] = 'display_data';\n",
              "        await google.colab.output.renderOutput(dataTable, element);\n",
              "        const docLink = document.createElement('div');\n",
              "        docLink.innerHTML = docLinkHtml;\n",
              "        element.appendChild(docLink);\n",
              "      }\n",
              "    </script>\n",
              "  </div>\n",
              "\n",
              "\n",
              "<div id=\"df-0bc52896-c2c8-478b-bf57-fbb04cf23177\">\n",
              "  <button class=\"colab-df-quickchart\" onclick=\"quickchart('df-0bc52896-c2c8-478b-bf57-fbb04cf23177')\"\n",
              "            title=\"Suggest charts\"\n",
              "            style=\"display:none;\">\n",
              "\n",
              "<svg xmlns=\"http://www.w3.org/2000/svg\" height=\"24px\"viewBox=\"0 0 24 24\"\n",
              "     width=\"24px\">\n",
              "    <g>\n",
              "        <path d=\"M19 3H5c-1.1 0-2 .9-2 2v14c0 1.1.9 2 2 2h14c1.1 0 2-.9 2-2V5c0-1.1-.9-2-2-2zM9 17H7v-7h2v7zm4 0h-2V7h2v10zm4 0h-2v-4h2v4z\"/>\n",
              "    </g>\n",
              "</svg>\n",
              "  </button>\n",
              "\n",
              "<style>\n",
              "  .colab-df-quickchart {\n",
              "      --bg-color: #E8F0FE;\n",
              "      --fill-color: #1967D2;\n",
              "      --hover-bg-color: #E2EBFA;\n",
              "      --hover-fill-color: #174EA6;\n",
              "      --disabled-fill-color: #AAA;\n",
              "      --disabled-bg-color: #DDD;\n",
              "  }\n",
              "\n",
              "  [theme=dark] .colab-df-quickchart {\n",
              "      --bg-color: #3B4455;\n",
              "      --fill-color: #D2E3FC;\n",
              "      --hover-bg-color: #434B5C;\n",
              "      --hover-fill-color: #FFFFFF;\n",
              "      --disabled-bg-color: #3B4455;\n",
              "      --disabled-fill-color: #666;\n",
              "  }\n",
              "\n",
              "  .colab-df-quickchart {\n",
              "    background-color: var(--bg-color);\n",
              "    border: none;\n",
              "    border-radius: 50%;\n",
              "    cursor: pointer;\n",
              "    display: none;\n",
              "    fill: var(--fill-color);\n",
              "    height: 32px;\n",
              "    padding: 0;\n",
              "    width: 32px;\n",
              "  }\n",
              "\n",
              "  .colab-df-quickchart:hover {\n",
              "    background-color: var(--hover-bg-color);\n",
              "    box-shadow: 0 1px 2px rgba(60, 64, 67, 0.3), 0 1px 3px 1px rgba(60, 64, 67, 0.15);\n",
              "    fill: var(--button-hover-fill-color);\n",
              "  }\n",
              "\n",
              "  .colab-df-quickchart-complete:disabled,\n",
              "  .colab-df-quickchart-complete:disabled:hover {\n",
              "    background-color: var(--disabled-bg-color);\n",
              "    fill: var(--disabled-fill-color);\n",
              "    box-shadow: none;\n",
              "  }\n",
              "\n",
              "  .colab-df-spinner {\n",
              "    border: 2px solid var(--fill-color);\n",
              "    border-color: transparent;\n",
              "    border-bottom-color: var(--fill-color);\n",
              "    animation:\n",
              "      spin 1s steps(1) infinite;\n",
              "  }\n",
              "\n",
              "  @keyframes spin {\n",
              "    0% {\n",
              "      border-color: transparent;\n",
              "      border-bottom-color: var(--fill-color);\n",
              "      border-left-color: var(--fill-color);\n",
              "    }\n",
              "    20% {\n",
              "      border-color: transparent;\n",
              "      border-left-color: var(--fill-color);\n",
              "      border-top-color: var(--fill-color);\n",
              "    }\n",
              "    30% {\n",
              "      border-color: transparent;\n",
              "      border-left-color: var(--fill-color);\n",
              "      border-top-color: var(--fill-color);\n",
              "      border-right-color: var(--fill-color);\n",
              "    }\n",
              "    40% {\n",
              "      border-color: transparent;\n",
              "      border-right-color: var(--fill-color);\n",
              "      border-top-color: var(--fill-color);\n",
              "    }\n",
              "    60% {\n",
              "      border-color: transparent;\n",
              "      border-right-color: var(--fill-color);\n",
              "    }\n",
              "    80% {\n",
              "      border-color: transparent;\n",
              "      border-right-color: var(--fill-color);\n",
              "      border-bottom-color: var(--fill-color);\n",
              "    }\n",
              "    90% {\n",
              "      border-color: transparent;\n",
              "      border-bottom-color: var(--fill-color);\n",
              "    }\n",
              "  }\n",
              "</style>\n",
              "\n",
              "  <script>\n",
              "    async function quickchart(key) {\n",
              "      const quickchartButtonEl =\n",
              "        document.querySelector('#' + key + ' button');\n",
              "      quickchartButtonEl.disabled = true;  // To prevent multiple clicks.\n",
              "      quickchartButtonEl.classList.add('colab-df-spinner');\n",
              "      try {\n",
              "        const charts = await google.colab.kernel.invokeFunction(\n",
              "            'suggestCharts', [key], {});\n",
              "      } catch (error) {\n",
              "        console.error('Error during call to suggestCharts:', error);\n",
              "      }\n",
              "      quickchartButtonEl.classList.remove('colab-df-spinner');\n",
              "      quickchartButtonEl.classList.add('colab-df-quickchart-complete');\n",
              "    }\n",
              "    (() => {\n",
              "      let quickchartButtonEl =\n",
              "        document.querySelector('#df-0bc52896-c2c8-478b-bf57-fbb04cf23177 button');\n",
              "      quickchartButtonEl.style.display =\n",
              "        google.colab.kernel.accessAllowed ? 'block' : 'none';\n",
              "    })();\n",
              "  </script>\n",
              "</div>\n",
              "    </div>\n",
              "  </div>\n"
            ],
            "application/vnd.google.colaboratory.intrinsic+json": {
              "type": "dataframe",
              "variable_name": "data",
              "summary": "{\n  \"name\": \"data\",\n  \"rows\": 2999,\n  \"fields\": [\n    {\n      \"column\": \"Title\",\n      \"properties\": {\n        \"dtype\": \"string\",\n        \"num_unique_values\": 2993,\n        \"samples\": [\n          \"Represent Place Thus\",\n          \"Serious Security Far\",\n          \"Risk Mother Candidate\"\n        ],\n        \"semantic_type\": \"\",\n        \"description\": \"\"\n      }\n    },\n    {\n      \"column\": \"Genre\",\n      \"properties\": {\n        \"dtype\": \"category\",\n        \"num_unique_values\": 12,\n        \"samples\": [\n          \"Mstery\",\n          \"Comedy-\",\n          \"Comedy\"\n        ],\n        \"semantic_type\": \"\",\n        \"description\": \"\"\n      }\n    },\n    {\n      \"column\": \"Premiere\",\n      \"properties\": {\n        \"dtype\": \"category\",\n        \"num_unique_values\": 1337,\n        \"samples\": [\n          \"October 20, 2023\",\n          \"March 12, 2020\",\n          \"August 19, 2022\"\n        ],\n        \"semantic_type\": \"\",\n        \"description\": \"\"\n      }\n    },\n    {\n      \"column\": \"Runtime\",\n      \"properties\": {\n        \"dtype\": \"number\",\n        \"std\": 145.19050856893122,\n        \"min\": -53.0,\n        \"max\": 7700.0,\n        \"num_unique_values\": 104,\n        \"samples\": [\n          97.0,\n          84.0,\n          81.0\n        ],\n        \"semantic_type\": \"\",\n        \"description\": \"\"\n      }\n    },\n    {\n      \"column\": \"IMDB Score\",\n      \"properties\": {\n        \"dtype\": \"category\",\n        \"num_unique_values\": 51,\n        \"samples\": [\n          \"0.333\",\n          \"3.7\",\n          \"3?1\"\n        ],\n        \"semantic_type\": \"\",\n        \"description\": \"\"\n      }\n    },\n    {\n      \"column\": \"Language\",\n      \"properties\": {\n        \"dtype\": \"category\",\n        \"num_unique_values\": 7,\n        \"samples\": [\n          \"Hindi\",\n          \"English\",\n          \"Chinese\"\n        ],\n        \"semantic_type\": \"\",\n        \"description\": \"\"\n      }\n    }\n  ]\n}"
            }
          },
          "metadata": {},
          "execution_count": 52
        }
      ]
    },
    {
      "cell_type": "code",
      "source": [
        "data.info()"
      ],
      "metadata": {
        "colab": {
          "base_uri": "https://localhost:8080/"
        },
        "id": "q0pzcoHYYPpu",
        "outputId": "3679423a-eaa7-4bf5-8f41-abe9d24c4aaa"
      },
      "execution_count": null,
      "outputs": [
        {
          "output_type": "stream",
          "name": "stdout",
          "text": [
            "<class 'pandas.core.frame.DataFrame'>\n",
            "RangeIndex: 2999 entries, 0 to 2998\n",
            "Data columns (total 6 columns):\n",
            " #   Column      Non-Null Count  Dtype  \n",
            "---  ------      --------------  -----  \n",
            " 0   Title       2997 non-null   object \n",
            " 1   Genre       2996 non-null   object \n",
            " 2   Premiere    2998 non-null   object \n",
            " 3   Runtime     2996 non-null   float64\n",
            " 4   IMDB Score  2999 non-null   object \n",
            " 5   Language    2995 non-null   object \n",
            "dtypes: float64(1), object(5)\n",
            "memory usage: 140.7+ KB\n"
          ]
        }
      ]
    },
    {
      "cell_type": "code",
      "source": [
        "data.describe(include='all')"
      ],
      "metadata": {
        "colab": {
          "base_uri": "https://localhost:8080/",
          "height": 394
        },
        "id": "05NfLALBYaNm",
        "outputId": "2298de62-84a8-4e46-e9dc-e8486aaf53b3"
      },
      "execution_count": null,
      "outputs": [
        {
          "output_type": "execute_result",
          "data": {
            "text/plain": [
              "                       Title    Genre            Premiere      Runtime  \\\n",
              "count                   2997     2996                2998  2996.000000   \n",
              "unique                  2993       12                1337          NaN   \n",
              "top     Question Across Will  Romance  September 21, 2020          NaN   \n",
              "freq                       3      398                   8          NaN   \n",
              "mean                     NaN      NaN                 NaN   103.196195   \n",
              "std                      NaN      NaN                 NaN   145.190509   \n",
              "min                      NaN      NaN                 NaN   -53.000000   \n",
              "25%                      NaN      NaN                 NaN    75.000000   \n",
              "50%                      NaN      NaN                 NaN   100.000000   \n",
              "75%                      NaN      NaN                 NaN   125.000000   \n",
              "max                      NaN      NaN                 NaN  7700.000000   \n",
              "\n",
              "       IMDB Score Language  \n",
              "count        2999     2995  \n",
              "unique         51        7  \n",
              "top           3.4  Chinese  \n",
              "freq           94      510  \n",
              "mean          NaN      NaN  \n",
              "std           NaN      NaN  \n",
              "min           NaN      NaN  \n",
              "25%           NaN      NaN  \n",
              "50%           NaN      NaN  \n",
              "75%           NaN      NaN  \n",
              "max           NaN      NaN  "
            ],
            "text/html": [
              "\n",
              "  <div id=\"df-148a5db3-c014-44bd-97c6-dc0583887765\" class=\"colab-df-container\">\n",
              "    <div>\n",
              "<style scoped>\n",
              "    .dataframe tbody tr th:only-of-type {\n",
              "        vertical-align: middle;\n",
              "    }\n",
              "\n",
              "    .dataframe tbody tr th {\n",
              "        vertical-align: top;\n",
              "    }\n",
              "\n",
              "    .dataframe thead th {\n",
              "        text-align: right;\n",
              "    }\n",
              "</style>\n",
              "<table border=\"1\" class=\"dataframe\">\n",
              "  <thead>\n",
              "    <tr style=\"text-align: right;\">\n",
              "      <th></th>\n",
              "      <th>Title</th>\n",
              "      <th>Genre</th>\n",
              "      <th>Premiere</th>\n",
              "      <th>Runtime</th>\n",
              "      <th>IMDB Score</th>\n",
              "      <th>Language</th>\n",
              "    </tr>\n",
              "  </thead>\n",
              "  <tbody>\n",
              "    <tr>\n",
              "      <th>count</th>\n",
              "      <td>2997</td>\n",
              "      <td>2996</td>\n",
              "      <td>2998</td>\n",
              "      <td>2996.000000</td>\n",
              "      <td>2999</td>\n",
              "      <td>2995</td>\n",
              "    </tr>\n",
              "    <tr>\n",
              "      <th>unique</th>\n",
              "      <td>2993</td>\n",
              "      <td>12</td>\n",
              "      <td>1337</td>\n",
              "      <td>NaN</td>\n",
              "      <td>51</td>\n",
              "      <td>7</td>\n",
              "    </tr>\n",
              "    <tr>\n",
              "      <th>top</th>\n",
              "      <td>Question Across Will</td>\n",
              "      <td>Romance</td>\n",
              "      <td>September 21, 2020</td>\n",
              "      <td>NaN</td>\n",
              "      <td>3.4</td>\n",
              "      <td>Chinese</td>\n",
              "    </tr>\n",
              "    <tr>\n",
              "      <th>freq</th>\n",
              "      <td>3</td>\n",
              "      <td>398</td>\n",
              "      <td>8</td>\n",
              "      <td>NaN</td>\n",
              "      <td>94</td>\n",
              "      <td>510</td>\n",
              "    </tr>\n",
              "    <tr>\n",
              "      <th>mean</th>\n",
              "      <td>NaN</td>\n",
              "      <td>NaN</td>\n",
              "      <td>NaN</td>\n",
              "      <td>103.196195</td>\n",
              "      <td>NaN</td>\n",
              "      <td>NaN</td>\n",
              "    </tr>\n",
              "    <tr>\n",
              "      <th>std</th>\n",
              "      <td>NaN</td>\n",
              "      <td>NaN</td>\n",
              "      <td>NaN</td>\n",
              "      <td>145.190509</td>\n",
              "      <td>NaN</td>\n",
              "      <td>NaN</td>\n",
              "    </tr>\n",
              "    <tr>\n",
              "      <th>min</th>\n",
              "      <td>NaN</td>\n",
              "      <td>NaN</td>\n",
              "      <td>NaN</td>\n",
              "      <td>-53.000000</td>\n",
              "      <td>NaN</td>\n",
              "      <td>NaN</td>\n",
              "    </tr>\n",
              "    <tr>\n",
              "      <th>25%</th>\n",
              "      <td>NaN</td>\n",
              "      <td>NaN</td>\n",
              "      <td>NaN</td>\n",
              "      <td>75.000000</td>\n",
              "      <td>NaN</td>\n",
              "      <td>NaN</td>\n",
              "    </tr>\n",
              "    <tr>\n",
              "      <th>50%</th>\n",
              "      <td>NaN</td>\n",
              "      <td>NaN</td>\n",
              "      <td>NaN</td>\n",
              "      <td>100.000000</td>\n",
              "      <td>NaN</td>\n",
              "      <td>NaN</td>\n",
              "    </tr>\n",
              "    <tr>\n",
              "      <th>75%</th>\n",
              "      <td>NaN</td>\n",
              "      <td>NaN</td>\n",
              "      <td>NaN</td>\n",
              "      <td>125.000000</td>\n",
              "      <td>NaN</td>\n",
              "      <td>NaN</td>\n",
              "    </tr>\n",
              "    <tr>\n",
              "      <th>max</th>\n",
              "      <td>NaN</td>\n",
              "      <td>NaN</td>\n",
              "      <td>NaN</td>\n",
              "      <td>7700.000000</td>\n",
              "      <td>NaN</td>\n",
              "      <td>NaN</td>\n",
              "    </tr>\n",
              "  </tbody>\n",
              "</table>\n",
              "</div>\n",
              "    <div class=\"colab-df-buttons\">\n",
              "\n",
              "  <div class=\"colab-df-container\">\n",
              "    <button class=\"colab-df-convert\" onclick=\"convertToInteractive('df-148a5db3-c014-44bd-97c6-dc0583887765')\"\n",
              "            title=\"Convert this dataframe to an interactive table.\"\n",
              "            style=\"display:none;\">\n",
              "\n",
              "  <svg xmlns=\"http://www.w3.org/2000/svg\" height=\"24px\" viewBox=\"0 -960 960 960\">\n",
              "    <path d=\"M120-120v-720h720v720H120Zm60-500h600v-160H180v160Zm220 220h160v-160H400v160Zm0 220h160v-160H400v160ZM180-400h160v-160H180v160Zm440 0h160v-160H620v160ZM180-180h160v-160H180v160Zm440 0h160v-160H620v160Z\"/>\n",
              "  </svg>\n",
              "    </button>\n",
              "\n",
              "  <style>\n",
              "    .colab-df-container {\n",
              "      display:flex;\n",
              "      gap: 12px;\n",
              "    }\n",
              "\n",
              "    .colab-df-convert {\n",
              "      background-color: #E8F0FE;\n",
              "      border: none;\n",
              "      border-radius: 50%;\n",
              "      cursor: pointer;\n",
              "      display: none;\n",
              "      fill: #1967D2;\n",
              "      height: 32px;\n",
              "      padding: 0 0 0 0;\n",
              "      width: 32px;\n",
              "    }\n",
              "\n",
              "    .colab-df-convert:hover {\n",
              "      background-color: #E2EBFA;\n",
              "      box-shadow: 0px 1px 2px rgba(60, 64, 67, 0.3), 0px 1px 3px 1px rgba(60, 64, 67, 0.15);\n",
              "      fill: #174EA6;\n",
              "    }\n",
              "\n",
              "    .colab-df-buttons div {\n",
              "      margin-bottom: 4px;\n",
              "    }\n",
              "\n",
              "    [theme=dark] .colab-df-convert {\n",
              "      background-color: #3B4455;\n",
              "      fill: #D2E3FC;\n",
              "    }\n",
              "\n",
              "    [theme=dark] .colab-df-convert:hover {\n",
              "      background-color: #434B5C;\n",
              "      box-shadow: 0px 1px 3px 1px rgba(0, 0, 0, 0.15);\n",
              "      filter: drop-shadow(0px 1px 2px rgba(0, 0, 0, 0.3));\n",
              "      fill: #FFFFFF;\n",
              "    }\n",
              "  </style>\n",
              "\n",
              "    <script>\n",
              "      const buttonEl =\n",
              "        document.querySelector('#df-148a5db3-c014-44bd-97c6-dc0583887765 button.colab-df-convert');\n",
              "      buttonEl.style.display =\n",
              "        google.colab.kernel.accessAllowed ? 'block' : 'none';\n",
              "\n",
              "      async function convertToInteractive(key) {\n",
              "        const element = document.querySelector('#df-148a5db3-c014-44bd-97c6-dc0583887765');\n",
              "        const dataTable =\n",
              "          await google.colab.kernel.invokeFunction('convertToInteractive',\n",
              "                                                    [key], {});\n",
              "        if (!dataTable) return;\n",
              "\n",
              "        const docLinkHtml = 'Like what you see? Visit the ' +\n",
              "          '<a target=\"_blank\" href=https://colab.research.google.com/notebooks/data_table.ipynb>data table notebook</a>'\n",
              "          + ' to learn more about interactive tables.';\n",
              "        element.innerHTML = '';\n",
              "        dataTable['output_type'] = 'display_data';\n",
              "        await google.colab.output.renderOutput(dataTable, element);\n",
              "        const docLink = document.createElement('div');\n",
              "        docLink.innerHTML = docLinkHtml;\n",
              "        element.appendChild(docLink);\n",
              "      }\n",
              "    </script>\n",
              "  </div>\n",
              "\n",
              "\n",
              "<div id=\"df-dd9f29e4-efbb-4095-82c3-7231234e3b5d\">\n",
              "  <button class=\"colab-df-quickchart\" onclick=\"quickchart('df-dd9f29e4-efbb-4095-82c3-7231234e3b5d')\"\n",
              "            title=\"Suggest charts\"\n",
              "            style=\"display:none;\">\n",
              "\n",
              "<svg xmlns=\"http://www.w3.org/2000/svg\" height=\"24px\"viewBox=\"0 0 24 24\"\n",
              "     width=\"24px\">\n",
              "    <g>\n",
              "        <path d=\"M19 3H5c-1.1 0-2 .9-2 2v14c0 1.1.9 2 2 2h14c1.1 0 2-.9 2-2V5c0-1.1-.9-2-2-2zM9 17H7v-7h2v7zm4 0h-2V7h2v10zm4 0h-2v-4h2v4z\"/>\n",
              "    </g>\n",
              "</svg>\n",
              "  </button>\n",
              "\n",
              "<style>\n",
              "  .colab-df-quickchart {\n",
              "      --bg-color: #E8F0FE;\n",
              "      --fill-color: #1967D2;\n",
              "      --hover-bg-color: #E2EBFA;\n",
              "      --hover-fill-color: #174EA6;\n",
              "      --disabled-fill-color: #AAA;\n",
              "      --disabled-bg-color: #DDD;\n",
              "  }\n",
              "\n",
              "  [theme=dark] .colab-df-quickchart {\n",
              "      --bg-color: #3B4455;\n",
              "      --fill-color: #D2E3FC;\n",
              "      --hover-bg-color: #434B5C;\n",
              "      --hover-fill-color: #FFFFFF;\n",
              "      --disabled-bg-color: #3B4455;\n",
              "      --disabled-fill-color: #666;\n",
              "  }\n",
              "\n",
              "  .colab-df-quickchart {\n",
              "    background-color: var(--bg-color);\n",
              "    border: none;\n",
              "    border-radius: 50%;\n",
              "    cursor: pointer;\n",
              "    display: none;\n",
              "    fill: var(--fill-color);\n",
              "    height: 32px;\n",
              "    padding: 0;\n",
              "    width: 32px;\n",
              "  }\n",
              "\n",
              "  .colab-df-quickchart:hover {\n",
              "    background-color: var(--hover-bg-color);\n",
              "    box-shadow: 0 1px 2px rgba(60, 64, 67, 0.3), 0 1px 3px 1px rgba(60, 64, 67, 0.15);\n",
              "    fill: var(--button-hover-fill-color);\n",
              "  }\n",
              "\n",
              "  .colab-df-quickchart-complete:disabled,\n",
              "  .colab-df-quickchart-complete:disabled:hover {\n",
              "    background-color: var(--disabled-bg-color);\n",
              "    fill: var(--disabled-fill-color);\n",
              "    box-shadow: none;\n",
              "  }\n",
              "\n",
              "  .colab-df-spinner {\n",
              "    border: 2px solid var(--fill-color);\n",
              "    border-color: transparent;\n",
              "    border-bottom-color: var(--fill-color);\n",
              "    animation:\n",
              "      spin 1s steps(1) infinite;\n",
              "  }\n",
              "\n",
              "  @keyframes spin {\n",
              "    0% {\n",
              "      border-color: transparent;\n",
              "      border-bottom-color: var(--fill-color);\n",
              "      border-left-color: var(--fill-color);\n",
              "    }\n",
              "    20% {\n",
              "      border-color: transparent;\n",
              "      border-left-color: var(--fill-color);\n",
              "      border-top-color: var(--fill-color);\n",
              "    }\n",
              "    30% {\n",
              "      border-color: transparent;\n",
              "      border-left-color: var(--fill-color);\n",
              "      border-top-color: var(--fill-color);\n",
              "      border-right-color: var(--fill-color);\n",
              "    }\n",
              "    40% {\n",
              "      border-color: transparent;\n",
              "      border-right-color: var(--fill-color);\n",
              "      border-top-color: var(--fill-color);\n",
              "    }\n",
              "    60% {\n",
              "      border-color: transparent;\n",
              "      border-right-color: var(--fill-color);\n",
              "    }\n",
              "    80% {\n",
              "      border-color: transparent;\n",
              "      border-right-color: var(--fill-color);\n",
              "      border-bottom-color: var(--fill-color);\n",
              "    }\n",
              "    90% {\n",
              "      border-color: transparent;\n",
              "      border-bottom-color: var(--fill-color);\n",
              "    }\n",
              "  }\n",
              "</style>\n",
              "\n",
              "  <script>\n",
              "    async function quickchart(key) {\n",
              "      const quickchartButtonEl =\n",
              "        document.querySelector('#' + key + ' button');\n",
              "      quickchartButtonEl.disabled = true;  // To prevent multiple clicks.\n",
              "      quickchartButtonEl.classList.add('colab-df-spinner');\n",
              "      try {\n",
              "        const charts = await google.colab.kernel.invokeFunction(\n",
              "            'suggestCharts', [key], {});\n",
              "      } catch (error) {\n",
              "        console.error('Error during call to suggestCharts:', error);\n",
              "      }\n",
              "      quickchartButtonEl.classList.remove('colab-df-spinner');\n",
              "      quickchartButtonEl.classList.add('colab-df-quickchart-complete');\n",
              "    }\n",
              "    (() => {\n",
              "      let quickchartButtonEl =\n",
              "        document.querySelector('#df-dd9f29e4-efbb-4095-82c3-7231234e3b5d button');\n",
              "      quickchartButtonEl.style.display =\n",
              "        google.colab.kernel.accessAllowed ? 'block' : 'none';\n",
              "    })();\n",
              "  </script>\n",
              "</div>\n",
              "    </div>\n",
              "  </div>\n"
            ],
            "application/vnd.google.colaboratory.intrinsic+json": {
              "type": "dataframe",
              "summary": "{\n  \"name\": \"data\",\n  \"rows\": 11,\n  \"fields\": [\n    {\n      \"column\": \"Title\",\n      \"properties\": {\n        \"dtype\": \"category\",\n        \"num_unique_values\": 4,\n        \"samples\": [\n          2993,\n          \"3\",\n          \"2997\"\n        ],\n        \"semantic_type\": \"\",\n        \"description\": \"\"\n      }\n    },\n    {\n      \"column\": \"Genre\",\n      \"properties\": {\n        \"dtype\": \"category\",\n        \"num_unique_values\": 4,\n        \"samples\": [\n          12,\n          \"398\",\n          \"2996\"\n        ],\n        \"semantic_type\": \"\",\n        \"description\": \"\"\n      }\n    },\n    {\n      \"column\": \"Premiere\",\n      \"properties\": {\n        \"dtype\": \"date\",\n        \"min\": \"1970-01-01 00:00:00.000000008\",\n        \"max\": \"2020-09-21 00:00:00\",\n        \"num_unique_values\": 4,\n        \"samples\": [\n          1337,\n          \"8\",\n          \"2998\"\n        ],\n        \"semantic_type\": \"\",\n        \"description\": \"\"\n      }\n    },\n    {\n      \"column\": \"Runtime\",\n      \"properties\": {\n        \"dtype\": \"number\",\n        \"std\": 2743.197110126088,\n        \"min\": -53.0,\n        \"max\": 7700.0,\n        \"num_unique_values\": 8,\n        \"samples\": [\n          103.19619492656875,\n          100.0,\n          2996.0\n        ],\n        \"semantic_type\": \"\",\n        \"description\": \"\"\n      }\n    },\n    {\n      \"column\": \"IMDB Score\",\n      \"properties\": {\n        \"dtype\": \"category\",\n        \"num_unique_values\": 4,\n        \"samples\": [\n          51,\n          \"94\",\n          \"2999\"\n        ],\n        \"semantic_type\": \"\",\n        \"description\": \"\"\n      }\n    },\n    {\n      \"column\": \"Language\",\n      \"properties\": {\n        \"dtype\": \"category\",\n        \"num_unique_values\": 4,\n        \"samples\": [\n          7,\n          \"510\",\n          \"2995\"\n        ],\n        \"semantic_type\": \"\",\n        \"description\": \"\"\n      }\n    }\n  ]\n}"
            }
          },
          "metadata": {},
          "execution_count": 5
        }
      ]
    },
    {
      "cell_type": "code",
      "source": [
        "data['Runtime'].plot(style='o', figsize=(20, 12), title='Runtime of Movies')\n"
      ],
      "metadata": {
        "colab": {
          "base_uri": "https://localhost:8080/",
          "height": 865
        },
        "id": "JV243DycYihE",
        "outputId": "f82d5655-55c9-4b69-89eb-41a8b5269b77"
      },
      "execution_count": null,
      "outputs": [
        {
          "output_type": "execute_result",
          "data": {
            "text/plain": [
              "<Axes: title={'center': 'Runtime of Movies'}>"
            ]
          },
          "metadata": {},
          "execution_count": 6
        },
        {
          "output_type": "display_data",
          "data": {
            "text/plain": [
              "<Figure size 2000x1200 with 1 Axes>"
            ],
            "image/png": "[encoded data removed]"
          },
          "metadata": {}
        }
      ]
    },
    {
      "cell_type": "code",
      "source": [
        "data['Runtime'] = np.where(data['Runtime'] > 1000, data['Runtime'].mean(), data['Runtime'])\n",
        "data['Runtime'] = np.where(data['Runtime'] < 0, data['Runtime'] * -1, data['Runtime'])"
      ],
      "metadata": {
        "id": "orEyKqtLaDCe"
      },
      "execution_count": null,
      "outputs": []
    },
    {
      "cell_type": "code",
      "source": [
        "data['Runtime'].describe()"
      ],
      "metadata": {
        "colab": {
          "base_uri": "https://localhost:8080/"
        },
        "id": "vIBWL63CbUW-",
        "outputId": "cd7a62aa-a536-4103-ed53-c46011248201"
      },
      "execution_count": null,
      "outputs": [
        {
          "output_type": "execute_result",
          "data": {
            "text/plain": [
              "count    2996.000000\n",
              "mean       99.903668\n",
              "std        29.194294\n",
              "min         9.800000\n",
              "25%        75.000000\n",
              "50%       100.000000\n",
              "75%       125.000000\n",
              "max       149.000000\n",
              "Name: Runtime, dtype: float64"
            ]
          },
          "metadata": {},
          "execution_count": 8
        }
      ]
    },
    {
      "cell_type": "code",
      "source": [
        "data['Runtime'].plot(style='o', figsize=(20, 12), title='Runtime of Movies')"
      ],
      "metadata": {
        "colab": {
          "base_uri": "https://localhost:8080/",
          "height": 870
        },
        "id": "hVA1VBF1g4Gt",
        "outputId": "3e5969de-c052-40de-a9a3-8025a7fad634"
      },
      "execution_count": null,
      "outputs": [
        {
          "output_type": "execute_result",
          "data": {
            "text/plain": [
              "<Axes: title={'center': 'Runtime of Movies'}>"
            ]
          },
          "metadata": {},
          "execution_count": 9
        },
        {
          "output_type": "display_data",
          "data": {
            "text/plain": [
              "<Figure size 2000x1200 with 1 Axes>"
            ],
            "image/png": "[encoded data removed]"
          },
          "metadata": {}
        }
      ]
    },
    {
      "cell_type": "code",
      "source": [
        "data.drop(data.loc[data['Runtime'] == 9.8].index, inplace=True)"
      ],
      "metadata": {
        "id": "kGPY1BaDhED8"
      },
      "execution_count": null,
      "outputs": []
    },
    {
      "cell_type": "code",
      "source": [
        "data['Runtime'].describe()"
      ],
      "metadata": {
        "colab": {
          "base_uri": "https://localhost:8080/"
        },
        "id": "hTsCzayLhe6L",
        "outputId": "a186504b-56dd-44b4-e3a2-b8be9c29a95b"
      },
      "execution_count": null,
      "outputs": [
        {
          "output_type": "execute_result",
          "data": {
            "text/plain": [
              "count    2995.000000\n",
              "mean       99.933752\n",
              "std        29.152683\n",
              "min        50.000000\n",
              "25%        75.000000\n",
              "50%       100.000000\n",
              "75%       125.000000\n",
              "max       149.000000\n",
              "Name: Runtime, dtype: float64"
            ]
          },
          "metadata": {},
          "execution_count": 11
        }
      ]
    },
    {
      "cell_type": "markdown",
      "source": [
        "### Устраним проблему с IMDB Score"
      ],
      "metadata": {
        "id": "zMYrpsMwir6K"
      }
    },
    {
      "cell_type": "code",
      "source": [
        "import re\n",
        "\n",
        "regex = r'[^0-9.]'\n",
        "\n",
        "data['IMDB Score'] = data['IMDB Score'].astype(str).apply(lambda x: re.sub(r'[^\\d.]', '.', x)).astype(float)\n"
      ],
      "metadata": {
        "id": "eWZwFCK7iu2P"
      },
      "execution_count": null,
      "outputs": []
    },
    {
      "cell_type": "code",
      "source": [
        "data.info()"
      ],
      "metadata": {
        "colab": {
          "base_uri": "https://localhost:8080/"
        },
        "id": "lzsi5dqai67v",
        "outputId": "39258d2c-4e7b-456c-c8eb-2f3f35775320"
      },
      "execution_count": null,
      "outputs": [
        {
          "output_type": "stream",
          "name": "stdout",
          "text": [
            "<class 'pandas.core.frame.DataFrame'>\n",
            "RangeIndex: 2999 entries, 0 to 2998\n",
            "Data columns (total 6 columns):\n",
            " #   Column      Non-Null Count  Dtype  \n",
            "---  ------      --------------  -----  \n",
            " 0   Title       2997 non-null   object \n",
            " 1   Genre       2999 non-null   int64  \n",
            " 2   Premiere    2998 non-null   object \n",
            " 3   Runtime     2996 non-null   float64\n",
            " 4   IMDB Score  2999 non-null   float64\n",
            " 5   Language    2999 non-null   int64  \n",
            "dtypes: float64(2), int64(2), object(2)\n",
            "memory usage: 140.7+ KB\n"
          ]
        }
      ]
    },
    {
      "cell_type": "code",
      "source": [
        "data['IMDB Score'].describe()"
      ],
      "metadata": {
        "colab": {
          "base_uri": "https://localhost:8080/"
        },
        "id": "T2lPHkWUlpDk",
        "outputId": "3a1884bd-74fe-44c0-d4a0-b497729eb766"
      },
      "execution_count": null,
      "outputs": [
        {
          "output_type": "execute_result",
          "data": {
            "text/plain": [
              "count    2999.000000\n",
              "mean        3.490474\n",
              "std        16.470246\n",
              "min         0.333000\n",
              "25%         2.000000\n",
              "50%         3.000000\n",
              "75%         4.000000\n",
              "max       700.000000\n",
              "Name: IMDB Score, dtype: float64"
            ]
          },
          "metadata": {},
          "execution_count": 62
        }
      ]
    },
    {
      "cell_type": "code",
      "source": [
        "data['IMDB Score'].plot(style='o', figsize=(20, 12), title='IMDB Score of Movies')"
      ],
      "metadata": {
        "colab": {
          "base_uri": "https://localhost:8080/",
          "height": 870
        },
        "id": "5ulSLB-flwPL",
        "outputId": "8fb9cf99-6d1d-4ef4-b8e9-d7f4bb2a692e"
      },
      "execution_count": null,
      "outputs": [
        {
          "output_type": "execute_result",
          "data": {
            "text/plain": [
              "<Axes: title={'center': 'IMDB Score of Movies'}>"
            ]
          },
          "metadata": {},
          "execution_count": 63
        },
        {
          "output_type": "display_data",
          "data": {
            "text/plain": [
              "<Figure size 2000x1200 with 1 Axes>"
            ],
            "image/png": "[encoded data removed]"
          },
          "metadata": {}
        }
      ]
    },
    {
      "cell_type": "code",
      "source": [
        "data['IMDB Score'] = np.where(data['IMDB Score'] > 10, data['IMDB Score'].mean(), data['IMDB Score'])"
      ],
      "metadata": {
        "id": "R8DpDrhCmCky"
      },
      "execution_count": null,
      "outputs": []
    },
    {
      "cell_type": "code",
      "source": [
        "data['IMDB Score'].describe()"
      ],
      "metadata": {
        "colab": {
          "base_uri": "https://localhost:8080/"
        },
        "id": "WV_9EnUpm-NR",
        "outputId": "3f42f38d-3a21-4dfa-fabc-9f1d9064ee25"
      },
      "execution_count": null,
      "outputs": [
        {
          "output_type": "execute_result",
          "data": {
            "text/plain": [
              "count    2998.000000\n",
              "mean        2.990362\n",
              "std         1.178136\n",
              "min         0.333000\n",
              "25%         2.000000\n",
              "50%         3.000000\n",
              "75%         4.000000\n",
              "max         7.000000\n",
              "Name: IMDB Score, dtype: float64"
            ]
          },
          "metadata": {},
          "execution_count": 17
        }
      ]
    },
    {
      "cell_type": "markdown",
      "source": [
        "### Устраним проблему с Premiere"
      ],
      "metadata": {
        "id": "E4rd__zcnDb9"
      }
    },
    {
      "cell_type": "code",
      "source": [
        "from datetime import datetime"
      ],
      "metadata": {
        "id": "mq0CFG9jnIri"
      },
      "execution_count": null,
      "outputs": []
    },
    {
      "cell_type": "code",
      "source": [
        "def preprocessing_date(x):\n",
        "  try:\n",
        "    return int(datetime.strptime(x, \"%B %d, %Y\").timestamp())\n",
        "  except Exception:\n",
        "    return x"
      ],
      "metadata": {
        "id": "ilgt_0gT-_IM"
      },
      "execution_count": null,
      "outputs": []
    },
    {
      "cell_type": "code",
      "source": [
        "data['Premiere'] = data['Premiere'].apply(lambda x: preprocessing_date(x))"
      ],
      "metadata": {
        "id": "m8Rg7HM4nQlv"
      },
      "execution_count": null,
      "outputs": []
    },
    {
      "cell_type": "code",
      "source": [
        "rows_to_drop = list()\n",
        "for index, row in data.iterrows():\n",
        "  if type(row['Premiere']) != int:\n",
        "    print(row['Premiere'])\n",
        "    rows_to_drop.append(index)\n",
        "  elif row['Premiere'] > int(datetime.now().timestamp()):\n",
        "    print(row['Premiere'])\n",
        "    rows_to_drop.append(index)\n",
        "\n",
        "data.drop(rows_to_drop, inplace=True)"
      ],
      "metadata": {
        "id": "Ze50fzBB9-Il",
        "colab": {
          "base_uri": "https://localhost:8080/"
        },
        "outputId": "2e1c2817-9b2b-4c60-80f3-553e6c817aa8"
      },
      "execution_count": null,
      "outputs": [
        {
          "output_type": "stream",
          "name": "stdout",
          "text": [
            "1918512000\n",
            "4839436800\n",
            "nan\n",
            "July 42, 2023\n",
            "7993728000\n"
          ]
        }
      ]
    },
    {
      "cell_type": "code",
      "source": [
        "for row in data['Premiere']:\n",
        "  if type(row) != int:\n",
        "    print(row)"
      ],
      "metadata": {
        "id": "1R_MtjAS_YCv"
      },
      "execution_count": null,
      "outputs": []
    },
    {
      "cell_type": "code",
      "source": [
        "for row in data['Premiere']:\n",
        "  if row > int(datetime.now().timestamp()):\n",
        "    print(row)"
      ],
      "metadata": {
        "id": "qCR0qBsECnQ2"
      },
      "execution_count": null,
      "outputs": []
    },
    {
      "cell_type": "code",
      "source": [
        "datetime.utcfromtimestamp(data['Premiere'].min())"
      ],
      "metadata": {
        "colab": {
          "base_uri": "https://localhost:8080/"
        },
        "id": "lfxbtROCDMsg",
        "outputId": "3eb3becf-c999-40ef-987a-de9cd747fbaf"
      },
      "execution_count": null,
      "outputs": [
        {
          "output_type": "execute_result",
          "data": {
            "text/plain": [
              "datetime.datetime(2020, 1, 1, 0, 0)"
            ]
          },
          "metadata": {},
          "execution_count": 24
        }
      ]
    },
    {
      "cell_type": "markdown",
      "source": [
        "### Устраним проблему с Genre"
      ],
      "metadata": {
        "id": "x1qy7jzcBKPp"
      }
    },
    {
      "cell_type": "code",
      "source": [
        "data['Genre'].unique()"
      ],
      "metadata": {
        "colab": {
          "base_uri": "https://localhost:8080/"
        },
        "id": "7AoF2TYiAy_a",
        "outputId": "c2794fda-deb5-465e-8f30-d80d4a0712dc"
      },
      "execution_count": null,
      "outputs": [
        {
          "output_type": "execute_result",
          "data": {
            "text/plain": [
              "array(['Comedy', 'Mystery', 'Horror', 'Drama', 'Action', 'Romance',\n",
              "       'Documentary', 'Thriller', 'Horror\\\\', 'Comedy-', 'Mstery', nan,\n",
              "       'Horr'], dtype=object)"
            ]
          },
          "metadata": {},
          "execution_count": 25
        }
      ]
    },
    {
      "cell_type": "code",
      "source": [
        "data['Genre'] = data['Genre'].replace({'Horr': 'Horror', 'Horror\\\\': 'Horror', 'Comedy-': 'Comedy', 'Mstery': 'Mystery'})\n",
        "data['Genre'] = data['Genre'].fillna('Unknown genre')"
      ],
      "metadata": {
        "id": "0QPRbu5TBPVc"
      },
      "execution_count": null,
      "outputs": []
    },
    {
      "cell_type": "code",
      "source": [
        "data['Genre'].value_counts()"
      ],
      "metadata": {
        "colab": {
          "base_uri": "https://localhost:8080/"
        },
        "id": "1jcB9r6bH02m",
        "outputId": "d5010c07-ce65-47bc-8ac0-8eb03c1c633c"
      },
      "execution_count": null,
      "outputs": [
        {
          "output_type": "execute_result",
          "data": {
            "text/plain": [
              "Genre\n",
              "Romance          398\n",
              "Comedy           391\n",
              "Action           379\n",
              "Horror           371\n",
              "Drama            366\n",
              "Documentary      366\n",
              "Thriller         362\n",
              "Mystery          357\n",
              "Unknown genre      3\n",
              "Name: count, dtype: int64"
            ]
          },
          "metadata": {},
          "execution_count": 27
        }
      ]
    },
    {
      "cell_type": "code",
      "source": [
        "data['Genre'].unique()"
      ],
      "metadata": {
        "colab": {
          "base_uri": "https://localhost:8080/"
        },
        "id": "WxcSa0e9CFIY",
        "outputId": "184148af-230c-4f69-817a-a1d117356926"
      },
      "execution_count": null,
      "outputs": [
        {
          "output_type": "execute_result",
          "data": {
            "text/plain": [
              "array(['Comedy', 'Mystery', 'Horror', 'Drama', 'Action', 'Romance',\n",
              "       'Documentary', 'Thriller', 'Unknown genre'], dtype=object)"
            ]
          },
          "metadata": {},
          "execution_count": 28
        }
      ]
    },
    {
      "cell_type": "markdown",
      "source": [
        "### Устраним проблему с Language"
      ],
      "metadata": {
        "id": "ezm3isyzCKSP"
      }
    },
    {
      "cell_type": "code",
      "source": [
        "data['Language'].unique()"
      ],
      "metadata": {
        "colab": {
          "base_uri": "https://localhost:8080/"
        },
        "id": "SOrvOXvvCGfn",
        "outputId": "0c9b02c3-8d73-4251-ae8e-8aa99f43f8d3"
      },
      "execution_count": null,
      "outputs": [
        {
          "output_type": "execute_result",
          "data": {
            "text/plain": [
              "array(['Hindi', 'English', 'Italian', 'Spanish', 'Japanese', 'Chinese',\n",
              "       'Italia', nan], dtype=object)"
            ]
          },
          "metadata": {},
          "execution_count": 29
        }
      ]
    },
    {
      "cell_type": "code",
      "source": [
        "data['Language'] = data['Language'].replace('Italia', 'Italian')\n",
        "data['Language'] = data['Language'].fillna('Multilanguage')"
      ],
      "metadata": {
        "id": "fmx4Z_VgCPOR"
      },
      "execution_count": null,
      "outputs": []
    },
    {
      "cell_type": "code",
      "source": [
        "data['Language'].unique()"
      ],
      "metadata": {
        "colab": {
          "base_uri": "https://localhost:8080/"
        },
        "id": "d52s0DNuCcEh",
        "outputId": "36612503-d2df-4e30-e19c-f2ea210e2b4a"
      },
      "execution_count": null,
      "outputs": [
        {
          "output_type": "execute_result",
          "data": {
            "text/plain": [
              "array(['Hindi', 'English', 'Italian', 'Spanish', 'Japanese', 'Chinese',\n",
              "       'Multilanguage'], dtype=object)"
            ]
          },
          "metadata": {},
          "execution_count": 31
        }
      ]
    },
    {
      "cell_type": "code",
      "source": [
        "data['Language'].value_counts()"
      ],
      "metadata": {
        "id": "dAoQitp2Cd7p",
        "colab": {
          "base_uri": "https://localhost:8080/"
        },
        "outputId": "b238d593-d93d-4247-f11a-99841c72919b"
      },
      "execution_count": null,
      "outputs": [
        {
          "output_type": "execute_result",
          "data": {
            "text/plain": [
              "Language\n",
              "Hindi            509\n",
              "Chinese          509\n",
              "English          498\n",
              "Japanese         498\n",
              "Spanish          489\n",
              "Italian          487\n",
              "Multilanguage      3\n",
              "Name: count, dtype: int64"
            ]
          },
          "metadata": {},
          "execution_count": 32
        }
      ]
    },
    {
      "cell_type": "markdown",
      "source": [
        "## Выявление аномалий с помощью функции"
      ],
      "metadata": {
        "id": "D5iTd932JHgG"
      }
    },
    {
      "cell_type": "code",
      "source": [
        "data = pd.read_csv('/content/drive/MyDrive/Colab Notebooks/Анализ/lab7/movie_data.csv')\n",
        "data.head()"
      ],
      "metadata": {
        "colab": {
          "base_uri": "https://localhost:8080/",
          "height": 206
        },
        "id": "RUafbgoe96eX",
        "outputId": "a4fe0b3e-d5a8-4096-df3a-25b84b08aeb8"
      },
      "execution_count": null,
      "outputs": [
        {
          "output_type": "execute_result",
          "data": {
            "text/plain": [
              "                     Title    Genre           Premiere  Runtime IMDB Score  \\\n",
              "0  Professor Bar Candidate   Comedy  February 03, 2024    144.0        4.3   \n",
              "1      Describe Fill Image  Mystery      June 16, 2021    116.0        4.0   \n",
              "2       Along Interview Me   Horror  December 18, 2021    144.0        1.8   \n",
              "3       Feeling Piece Race   Comedy     March 11, 2024    114.0        4.9   \n",
              "4       Close Imagine True    Drama  November 15, 2021    125.0        1.3   \n",
              "\n",
              "  Language  \n",
              "0    Hindi  \n",
              "1  English  \n",
              "2    Hindi  \n",
              "3  Italian  \n",
              "4  Spanish  "
            ],
            "text/html": [
              "\n",
              "  <div id=\"df-65eafc10-5716-4d4d-bebf-d2c2b093c8c1\" class=\"colab-df-container\">\n",
              "    <div>\n",
              "<style scoped>\n",
              "    .dataframe tbody tr th:only-of-type {\n",
              "        vertical-align: middle;\n",
              "    }\n",
              "\n",
              "    .dataframe tbody tr th {\n",
              "        vertical-align: top;\n",
              "    }\n",
              "\n",
              "    .dataframe thead th {\n",
              "        text-align: right;\n",
              "    }\n",
              "</style>\n",
              "<table border=\"1\" class=\"dataframe\">\n",
              "  <thead>\n",
              "    <tr style=\"text-align: right;\">\n",
              "      <th></th>\n",
              "      <th>Title</th>\n",
              "      <th>Genre</th>\n",
              "      <th>Premiere</th>\n",
              "      <th>Runtime</th>\n",
              "      <th>IMDB Score</th>\n",
              "      <th>Language</th>\n",
              "    </tr>\n",
              "  </thead>\n",
              "  <tbody>\n",
              "    <tr>\n",
              "      <th>0</th>\n",
              "      <td>Professor Bar Candidate</td>\n",
              "      <td>Comedy</td>\n",
              "      <td>February 03, 2024</td>\n",
              "      <td>144.0</td>\n",
              "      <td>4.3</td>\n",
              "      <td>Hindi</td>\n",
              "    </tr>\n",
              "    <tr>\n",
              "      <th>1</th>\n",
              "      <td>Describe Fill Image</td>\n",
              "      <td>Mystery</td>\n",
              "      <td>June 16, 2021</td>\n",
              "      <td>116.0</td>\n",
              "      <td>4.0</td>\n",
              "      <td>English</td>\n",
              "    </tr>\n",
              "    <tr>\n",
              "      <th>2</th>\n",
              "      <td>Along Interview Me</td>\n",
              "      <td>Horror</td>\n",
              "      <td>December 18, 2021</td>\n",
              "      <td>144.0</td>\n",
              "      <td>1.8</td>\n",
              "      <td>Hindi</td>\n",
              "    </tr>\n",
              "    <tr>\n",
              "      <th>3</th>\n",
              "      <td>Feeling Piece Race</td>\n",
              "      <td>Comedy</td>\n",
              "      <td>March 11, 2024</td>\n",
              "      <td>114.0</td>\n",
              "      <td>4.9</td>\n",
              "      <td>Italian</td>\n",
              "    </tr>\n",
              "    <tr>\n",
              "      <th>4</th>\n",
              "      <td>Close Imagine True</td>\n",
              "      <td>Drama</td>\n",
              "      <td>November 15, 2021</td>\n",
              "      <td>125.0</td>\n",
              "      <td>1.3</td>\n",
              "      <td>Spanish</td>\n",
              "    </tr>\n",
              "  </tbody>\n",
              "</table>\n",
              "</div>\n",
              "    <div class=\"colab-df-buttons\">\n",
              "\n",
              "  <div class=\"colab-df-container\">\n",
              "    <button class=\"colab-df-convert\" onclick=\"convertToInteractive('df-65eafc10-5716-4d4d-bebf-d2c2b093c8c1')\"\n",
              "            title=\"Convert this dataframe to an interactive table.\"\n",
              "            style=\"display:none;\">\n",
              "\n",
              "  <svg xmlns=\"http://www.w3.org/2000/svg\" height=\"24px\" viewBox=\"0 -960 960 960\">\n",
              "    <path d=\"M120-120v-720h720v720H120Zm60-500h600v-160H180v160Zm220 220h160v-160H400v160Zm0 220h160v-160H400v160ZM180-400h160v-160H180v160Zm440 0h160v-160H620v160ZM180-180h160v-160H180v160Zm440 0h160v-160H620v160Z\"/>\n",
              "  </svg>\n",
              "    </button>\n",
              "\n",
              "  <style>\n",
              "    .colab-df-container {\n",
              "      display:flex;\n",
              "      gap: 12px;\n",
              "    }\n",
              "\n",
              "    .colab-df-convert {\n",
              "      background-color: #E8F0FE;\n",
              "      border: none;\n",
              "      border-radius: 50%;\n",
              "      cursor: pointer;\n",
              "      display: none;\n",
              "      fill: #1967D2;\n",
              "      height: 32px;\n",
              "      padding: 0 0 0 0;\n",
              "      width: 32px;\n",
              "    }\n",
              "\n",
              "    .colab-df-convert:hover {\n",
              "      background-color: #E2EBFA;\n",
              "      box-shadow: 0px 1px 2px rgba(60, 64, 67, 0.3), 0px 1px 3px 1px rgba(60, 64, 67, 0.15);\n",
              "      fill: #174EA6;\n",
              "    }\n",
              "\n",
              "    .colab-df-buttons div {\n",
              "      margin-bottom: 4px;\n",
              "    }\n",
              "\n",
              "    [theme=dark] .colab-df-convert {\n",
              "      background-color: #3B4455;\n",
              "      fill: #D2E3FC;\n",
              "    }\n",
              "\n",
              "    [theme=dark] .colab-df-convert:hover {\n",
              "      background-color: #434B5C;\n",
              "      box-shadow: 0px 1px 3px 1px rgba(0, 0, 0, 0.15);\n",
              "      filter: drop-shadow(0px 1px 2px rgba(0, 0, 0, 0.3));\n",
              "      fill: #FFFFFF;\n",
              "    }\n",
              "  </style>\n",
              "\n",
              "    <script>\n",
              "      const buttonEl =\n",
              "        document.querySelector('#df-65eafc10-5716-4d4d-bebf-d2c2b093c8c1 button.colab-df-convert');\n",
              "      buttonEl.style.display =\n",
              "        google.colab.kernel.accessAllowed ? 'block' : 'none';\n",
              "\n",
              "      async function convertToInteractive(key) {\n",
              "        const element = document.querySelector('#df-65eafc10-5716-4d4d-bebf-d2c2b093c8c1');\n",
              "        const dataTable =\n",
              "          await google.colab.kernel.invokeFunction('convertToInteractive',\n",
              "                                                    [key], {});\n",
              "        if (!dataTable) return;\n",
              "\n",
              "        const docLinkHtml = 'Like what you see? Visit the ' +\n",
              "          '<a target=\"_blank\" href=https://colab.research.google.com/notebooks/data_table.ipynb>data table notebook</a>'\n",
              "          + ' to learn more about interactive tables.';\n",
              "        element.innerHTML = '';\n",
              "        dataTable['output_type'] = 'display_data';\n",
              "        await google.colab.output.renderOutput(dataTable, element);\n",
              "        const docLink = document.createElement('div');\n",
              "        docLink.innerHTML = docLinkHtml;\n",
              "        element.appendChild(docLink);\n",
              "      }\n",
              "    </script>\n",
              "  </div>\n",
              "\n",
              "\n",
              "<div id=\"df-75e0b8ba-d0f6-466b-8e5a-07b329a4e901\">\n",
              "  <button class=\"colab-df-quickchart\" onclick=\"quickchart('df-75e0b8ba-d0f6-466b-8e5a-07b329a4e901')\"\n",
              "            title=\"Suggest charts\"\n",
              "            style=\"display:none;\">\n",
              "\n",
              "<svg xmlns=\"http://www.w3.org/2000/svg\" height=\"24px\"viewBox=\"0 0 24 24\"\n",
              "     width=\"24px\">\n",
              "    <g>\n",
              "        <path d=\"M19 3H5c-1.1 0-2 .9-2 2v14c0 1.1.9 2 2 2h14c1.1 0 2-.9 2-2V5c0-1.1-.9-2-2-2zM9 17H7v-7h2v7zm4 0h-2V7h2v10zm4 0h-2v-4h2v4z\"/>\n",
              "    </g>\n",
              "</svg>\n",
              "  </button>\n",
              "\n",
              "<style>\n",
              "  .colab-df-quickchart {\n",
              "      --bg-color: #E8F0FE;\n",
              "      --fill-color: #1967D2;\n",
              "      --hover-bg-color: #E2EBFA;\n",
              "      --hover-fill-color: #174EA6;\n",
              "      --disabled-fill-color: #AAA;\n",
              "      --disabled-bg-color: #DDD;\n",
              "  }\n",
              "\n",
              "  [theme=dark] .colab-df-quickchart {\n",
              "      --bg-color: #3B4455;\n",
              "      --fill-color: #D2E3FC;\n",
              "      --hover-bg-color: #434B5C;\n",
              "      --hover-fill-color: #FFFFFF;\n",
              "      --disabled-bg-color: #3B4455;\n",
              "      --disabled-fill-color: #666;\n",
              "  }\n",
              "\n",
              "  .colab-df-quickchart {\n",
              "    background-color: var(--bg-color);\n",
              "    border: none;\n",
              "    border-radius: 50%;\n",
              "    cursor: pointer;\n",
              "    display: none;\n",
              "    fill: var(--fill-color);\n",
              "    height: 32px;\n",
              "    padding: 0;\n",
              "    width: 32px;\n",
              "  }\n",
              "\n",
              "  .colab-df-quickchart:hover {\n",
              "    background-color: var(--hover-bg-color);\n",
              "    box-shadow: 0 1px 2px rgba(60, 64, 67, 0.3), 0 1px 3px 1px rgba(60, 64, 67, 0.15);\n",
              "    fill: var(--button-hover-fill-color);\n",
              "  }\n",
              "\n",
              "  .colab-df-quickchart-complete:disabled,\n",
              "  .colab-df-quickchart-complete:disabled:hover {\n",
              "    background-color: var(--disabled-bg-color);\n",
              "    fill: var(--disabled-fill-color);\n",
              "    box-shadow: none;\n",
              "  }\n",
              "\n",
              "  .colab-df-spinner {\n",
              "    border: 2px solid var(--fill-color);\n",
              "    border-color: transparent;\n",
              "    border-bottom-color: var(--fill-color);\n",
              "    animation:\n",
              "      spin 1s steps(1) infinite;\n",
              "  }\n",
              "\n",
              "  @keyframes spin {\n",
              "    0% {\n",
              "      border-color: transparent;\n",
              "      border-bottom-color: var(--fill-color);\n",
              "      border-left-color: var(--fill-color);\n",
              "    }\n",
              "    20% {\n",
              "      border-color: transparent;\n",
              "      border-left-color: var(--fill-color);\n",
              "      border-top-color: var(--fill-color);\n",
              "    }\n",
              "    30% {\n",
              "      border-color: transparent;\n",
              "      border-left-color: var(--fill-color);\n",
              "      border-top-color: var(--fill-color);\n",
              "      border-right-color: var(--fill-color);\n",
              "    }\n",
              "    40% {\n",
              "      border-color: transparent;\n",
              "      border-right-color: var(--fill-color);\n",
              "      border-top-color: var(--fill-color);\n",
              "    }\n",
              "    60% {\n",
              "      border-color: transparent;\n",
              "      border-right-color: var(--fill-color);\n",
              "    }\n",
              "    80% {\n",
              "      border-color: transparent;\n",
              "      border-right-color: var(--fill-color);\n",
              "      border-bottom-color: var(--fill-color);\n",
              "    }\n",
              "    90% {\n",
              "      border-color: transparent;\n",
              "      border-bottom-color: var(--fill-color);\n",
              "    }\n",
              "  }\n",
              "</style>\n",
              "\n",
              "  <script>\n",
              "    async function quickchart(key) {\n",
              "      const quickchartButtonEl =\n",
              "        document.querySelector('#' + key + ' button');\n",
              "      quickchartButtonEl.disabled = true;  // To prevent multiple clicks.\n",
              "      quickchartButtonEl.classList.add('colab-df-spinner');\n",
              "      try {\n",
              "        const charts = await google.colab.kernel.invokeFunction(\n",
              "            'suggestCharts', [key], {});\n",
              "      } catch (error) {\n",
              "        console.error('Error during call to suggestCharts:', error);\n",
              "      }\n",
              "      quickchartButtonEl.classList.remove('colab-df-spinner');\n",
              "      quickchartButtonEl.classList.add('colab-df-quickchart-complete');\n",
              "    }\n",
              "    (() => {\n",
              "      let quickchartButtonEl =\n",
              "        document.querySelector('#df-75e0b8ba-d0f6-466b-8e5a-07b329a4e901 button');\n",
              "      quickchartButtonEl.style.display =\n",
              "        google.colab.kernel.accessAllowed ? 'block' : 'none';\n",
              "    })();\n",
              "  </script>\n",
              "</div>\n",
              "    </div>\n",
              "  </div>\n"
            ],
            "application/vnd.google.colaboratory.intrinsic+json": {
              "type": "dataframe",
              "variable_name": "data",
              "summary": "{\n  \"name\": \"data\",\n  \"rows\": 2999,\n  \"fields\": [\n    {\n      \"column\": \"Title\",\n      \"properties\": {\n        \"dtype\": \"string\",\n        \"num_unique_values\": 2993,\n        \"samples\": [\n          \"Represent Place Thus\",\n          \"Serious Security Far\",\n          \"Risk Mother Candidate\"\n        ],\n        \"semantic_type\": \"\",\n        \"description\": \"\"\n      }\n    },\n    {\n      \"column\": \"Genre\",\n      \"properties\": {\n        \"dtype\": \"category\",\n        \"num_unique_values\": 12,\n        \"samples\": [\n          \"Mstery\",\n          \"Comedy-\",\n          \"Comedy\"\n        ],\n        \"semantic_type\": \"\",\n        \"description\": \"\"\n      }\n    },\n    {\n      \"column\": \"Premiere\",\n      \"properties\": {\n        \"dtype\": \"category\",\n        \"num_unique_values\": 1337,\n        \"samples\": [\n          \"October 20, 2023\",\n          \"March 12, 2020\",\n          \"August 19, 2022\"\n        ],\n        \"semantic_type\": \"\",\n        \"description\": \"\"\n      }\n    },\n    {\n      \"column\": \"Runtime\",\n      \"properties\": {\n        \"dtype\": \"number\",\n        \"std\": 145.19050856893122,\n        \"min\": -53.0,\n        \"max\": 7700.0,\n        \"num_unique_values\": 104,\n        \"samples\": [\n          97.0,\n          84.0,\n          81.0\n        ],\n        \"semantic_type\": \"\",\n        \"description\": \"\"\n      }\n    },\n    {\n      \"column\": \"IMDB Score\",\n      \"properties\": {\n        \"dtype\": \"category\",\n        \"num_unique_values\": 51,\n        \"samples\": [\n          \"0.333\",\n          \"3.7\",\n          \"3?1\"\n        ],\n        \"semantic_type\": \"\",\n        \"description\": \"\"\n      }\n    },\n    {\n      \"column\": \"Language\",\n      \"properties\": {\n        \"dtype\": \"category\",\n        \"num_unique_values\": 7,\n        \"samples\": [\n          \"Hindi\",\n          \"English\",\n          \"Chinese\"\n        ],\n        \"semantic_type\": \"\",\n        \"description\": \"\"\n      }\n    }\n  ]\n}"
            }
          },
          "metadata": {},
          "execution_count": 202
        }
      ]
    },
    {
      "cell_type": "code",
      "source": [
        "data['Genre'] = data['Genre'].factorize()[0]\n",
        "data['Language'] = data['Language'].factorize()[0]"
      ],
      "metadata": {
        "id": "YDtF8r8h98Om"
      },
      "execution_count": null,
      "outputs": []
    },
    {
      "cell_type": "code",
      "source": [
        "import re\n",
        "\n",
        "regex = r'[^0-9.]'\n",
        "\n",
        "data['IMDB Score'] = data['IMDB Score'].astype(str).apply(lambda x: re.sub(r'[^\\d.]', '.', x)).astype(float)"
      ],
      "metadata": {
        "id": "pxJfoEmJH3nI"
      },
      "execution_count": null,
      "outputs": []
    },
    {
      "cell_type": "code",
      "source": [
        "from datetime import datetime"
      ],
      "metadata": {
        "id": "VXsW7vUdIST6"
      },
      "execution_count": null,
      "outputs": []
    },
    {
      "cell_type": "code",
      "source": [
        "def preprocessing_date(x):\n",
        "  try:\n",
        "    return int(datetime.strptime(x, \"%B %d, %Y\").timestamp())\n",
        "  except Exception:\n",
        "    return x"
      ],
      "metadata": {
        "id": "a8YKY5mUIXwv"
      },
      "execution_count": null,
      "outputs": []
    },
    {
      "cell_type": "code",
      "source": [
        "data['Premiere'] = data['Premiere'].apply(lambda x: preprocessing_date(x))"
      ],
      "metadata": {
        "id": "S2Zlcwj0IY5C"
      },
      "execution_count": null,
      "outputs": []
    },
    {
      "cell_type": "code",
      "source": [
        "rows_to_drop = list()\n",
        "for index, row in data.iterrows():\n",
        "  if type(row['Premiere']) != int:\n",
        "    print(row['Premiere'])\n",
        "    rows_to_drop.append(index)\n",
        "\n",
        "data.drop(rows_to_drop, inplace=True)"
      ],
      "metadata": {
        "colab": {
          "base_uri": "https://localhost:8080/"
        },
        "id": "rddPDf0AIezD",
        "outputId": "a840a03c-66a1-4fba-b5a1-bf30ad23f6f4"
      },
      "execution_count": null,
      "outputs": [
        {
          "output_type": "stream",
          "name": "stdout",
          "text": [
            "nan\n",
            "July 42, 2023\n"
          ]
        }
      ]
    },
    {
      "cell_type": "code",
      "source": [
        "data_features = data.drop(columns=['Title'])"
      ],
      "metadata": {
        "id": "rXqvNF9CIc7n"
      },
      "execution_count": null,
      "outputs": []
    },
    {
      "cell_type": "code",
      "source": [
        "data_features = data_features.dropna()"
      ],
      "metadata": {
        "id": "RzpFAoe5KU-b"
      },
      "execution_count": null,
      "outputs": []
    },
    {
      "cell_type": "code",
      "source": [
        "data_features"
      ],
      "metadata": {
        "colab": {
          "base_uri": "https://localhost:8080/",
          "height": 423
        },
        "id": "IzLe0UtGJdem",
        "outputId": "5d52d1e7-fcd1-413e-f24a-05256539626e"
      },
      "execution_count": null,
      "outputs": [
        {
          "output_type": "execute_result",
          "data": {
            "text/plain": [
              "      Genre    Premiere  Runtime  IMDB Score  Language\n",
              "0         0  1706918400    144.0         4.3         0\n",
              "1         1  1623801600    116.0         4.0         1\n",
              "2         2  1639785600    144.0         1.8         0\n",
              "3         0  1710115200    114.0         4.9         2\n",
              "4         3  1636934400    125.0         1.3         3\n",
              "...     ...         ...      ...         ...       ...\n",
              "2994      7  1645056000    125.0         3.9         4\n",
              "2995      1  1666310400    128.0         4.4         2\n",
              "2996      3  1672185600    123.0         1.6         3\n",
              "2997      0  1665532800    109.0         4.7         5\n",
              "2998      2  1670803200     72.0         1.3         2\n",
              "\n",
              "[2997 rows x 5 columns]"
            ],
            "text/html": [
              "\n",
              "  <div id=\"df-bb8bf5c9-3ff1-4e62-92d6-af4ba099c7f9\" class=\"colab-df-container\">\n",
              "    <div>\n",
              "<style scoped>\n",
              "    .dataframe tbody tr th:only-of-type {\n",
              "        vertical-align: middle;\n",
              "    }\n",
              "\n",
              "    .dataframe tbody tr th {\n",
              "        vertical-align: top;\n",
              "    }\n",
              "\n",
              "    .dataframe thead th {\n",
              "        text-align: right;\n",
              "    }\n",
              "</style>\n",
              "<table border=\"1\" class=\"dataframe\">\n",
              "  <thead>\n",
              "    <tr style=\"text-align: right;\">\n",
              "      <th></th>\n",
              "      <th>Genre</th>\n",
              "      <th>Premiere</th>\n",
              "      <th>Runtime</th>\n",
              "      <th>IMDB Score</th>\n",
              "      <th>Language</th>\n",
              "    </tr>\n",
              "  </thead>\n",
              "  <tbody>\n",
              "    <tr>\n",
              "      <th>0</th>\n",
              "      <td>0</td>\n",
              "      <td>1706918400</td>\n",
              "      <td>144.0</td>\n",
              "      <td>4.3</td>\n",
              "      <td>0</td>\n",
              "    </tr>\n",
              "    <tr>\n",
              "      <th>1</th>\n",
              "      <td>1</td>\n",
              "      <td>1623801600</td>\n",
              "      <td>116.0</td>\n",
              "      <td>4.0</td>\n",
              "      <td>1</td>\n",
              "    </tr>\n",
              "    <tr>\n",
              "      <th>2</th>\n",
              "      <td>2</td>\n",
              "      <td>1639785600</td>\n",
              "      <td>144.0</td>\n",
              "      <td>1.8</td>\n",
              "      <td>0</td>\n",
              "    </tr>\n",
              "    <tr>\n",
              "      <th>3</th>\n",
              "      <td>0</td>\n",
              "      <td>1710115200</td>\n",
              "      <td>114.0</td>\n",
              "      <td>4.9</td>\n",
              "      <td>2</td>\n",
              "    </tr>\n",
              "    <tr>\n",
              "      <th>4</th>\n",
              "      <td>3</td>\n",
              "      <td>1636934400</td>\n",
              "      <td>125.0</td>\n",
              "      <td>1.3</td>\n",
              "      <td>3</td>\n",
              "    </tr>\n",
              "    <tr>\n",
              "      <th>...</th>\n",
              "      <td>...</td>\n",
              "      <td>...</td>\n",
              "      <td>...</td>\n",
              "      <td>...</td>\n",
              "      <td>...</td>\n",
              "    </tr>\n",
              "    <tr>\n",
              "      <th>2994</th>\n",
              "      <td>7</td>\n",
              "      <td>1645056000</td>\n",
              "      <td>125.0</td>\n",
              "      <td>3.9</td>\n",
              "      <td>4</td>\n",
              "    </tr>\n",
              "    <tr>\n",
              "      <th>2995</th>\n",
              "      <td>1</td>\n",
              "      <td>1666310400</td>\n",
              "      <td>128.0</td>\n",
              "      <td>4.4</td>\n",
              "      <td>2</td>\n",
              "    </tr>\n",
              "    <tr>\n",
              "      <th>2996</th>\n",
              "      <td>3</td>\n",
              "      <td>1672185600</td>\n",
              "      <td>123.0</td>\n",
              "      <td>1.6</td>\n",
              "      <td>3</td>\n",
              "    </tr>\n",
              "    <tr>\n",
              "      <th>2997</th>\n",
              "      <td>0</td>\n",
              "      <td>1665532800</td>\n",
              "      <td>109.0</td>\n",
              "      <td>4.7</td>\n",
              "      <td>5</td>\n",
              "    </tr>\n",
              "    <tr>\n",
              "      <th>2998</th>\n",
              "      <td>2</td>\n",
              "      <td>1670803200</td>\n",
              "      <td>72.0</td>\n",
              "      <td>1.3</td>\n",
              "      <td>2</td>\n",
              "    </tr>\n",
              "  </tbody>\n",
              "</table>\n",
              "<p>2997 rows × 5 columns</p>\n",
              "</div>\n",
              "    <div class=\"colab-df-buttons\">\n",
              "\n",
              "  <div class=\"colab-df-container\">\n",
              "    <button class=\"colab-df-convert\" onclick=\"convertToInteractive('df-bb8bf5c9-3ff1-4e62-92d6-af4ba099c7f9')\"\n",
              "            title=\"Convert this dataframe to an interactive table.\"\n",
              "            style=\"display:none;\">\n",
              "\n",
              "  <svg xmlns=\"http://www.w3.org/2000/svg\" height=\"24px\" viewBox=\"0 -960 960 960\">\n",
              "    <path d=\"M120-120v-720h720v720H120Zm60-500h600v-160H180v160Zm220 220h160v-160H400v160Zm0 220h160v-160H400v160ZM180-400h160v-160H180v160Zm440 0h160v-160H620v160ZM180-180h160v-160H180v160Zm440 0h160v-160H620v160Z\"/>\n",
              "  </svg>\n",
              "    </button>\n",
              "\n",
              "  <style>\n",
              "    .colab-df-container {\n",
              "      display:flex;\n",
              "      gap: 12px;\n",
              "    }\n",
              "\n",
              "    .colab-df-convert {\n",
              "      background-color: #E8F0FE;\n",
              "      border: none;\n",
              "      border-radius: 50%;\n",
              "      cursor: pointer;\n",
              "      display: none;\n",
              "      fill: #1967D2;\n",
              "      height: 32px;\n",
              "      padding: 0 0 0 0;\n",
              "      width: 32px;\n",
              "    }\n",
              "\n",
              "    .colab-df-convert:hover {\n",
              "      background-color: #E2EBFA;\n",
              "      box-shadow: 0px 1px 2px rgba(60, 64, 67, 0.3), 0px 1px 3px 1px rgba(60, 64, 67, 0.15);\n",
              "      fill: #174EA6;\n",
              "    }\n",
              "\n",
              "    .colab-df-buttons div {\n",
              "      margin-bottom: 4px;\n",
              "    }\n",
              "\n",
              "    [theme=dark] .colab-df-convert {\n",
              "      background-color: #3B4455;\n",
              "      fill: #D2E3FC;\n",
              "    }\n",
              "\n",
              "    [theme=dark] .colab-df-convert:hover {\n",
              "      background-color: #434B5C;\n",
              "      box-shadow: 0px 1px 3px 1px rgba(0, 0, 0, 0.15);\n",
              "      filter: drop-shadow(0px 1px 2px rgba(0, 0, 0, 0.3));\n",
              "      fill: #FFFFFF;\n",
              "    }\n",
              "  </style>\n",
              "\n",
              "    <script>\n",
              "      const buttonEl =\n",
              "        document.querySelector('#df-bb8bf5c9-3ff1-4e62-92d6-af4ba099c7f9 button.colab-df-convert');\n",
              "      buttonEl.style.display =\n",
              "        google.colab.kernel.accessAllowed ? 'block' : 'none';\n",
              "\n",
              "      async function convertToInteractive(key) {\n",
              "        const element = document.querySelector('#df-bb8bf5c9-3ff1-4e62-92d6-af4ba099c7f9');\n",
              "        const dataTable =\n",
              "          await google.colab.kernel.invokeFunction('convertToInteractive',\n",
              "                                                    [key], {});\n",
              "        if (!dataTable) return;\n",
              "\n",
              "        const docLinkHtml = 'Like what you see? Visit the ' +\n",
              "          '<a target=\"_blank\" href=https://colab.research.google.com/notebooks/data_table.ipynb>data table notebook</a>'\n",
              "          + ' to learn more about interactive tables.';\n",
              "        element.innerHTML = '';\n",
              "        dataTable['output_type'] = 'display_data';\n",
              "        await google.colab.output.renderOutput(dataTable, element);\n",
              "        const docLink = document.createElement('div');\n",
              "        docLink.innerHTML = docLinkHtml;\n",
              "        element.appendChild(docLink);\n",
              "      }\n",
              "    </script>\n",
              "  </div>\n",
              "\n",
              "\n",
              "<div id=\"df-6eb09d71-f355-4959-ac15-602502f9358a\">\n",
              "  <button class=\"colab-df-quickchart\" onclick=\"quickchart('df-6eb09d71-f355-4959-ac15-602502f9358a')\"\n",
              "            title=\"Suggest charts\"\n",
              "            style=\"display:none;\">\n",
              "\n",
              "<svg xmlns=\"http://www.w3.org/2000/svg\" height=\"24px\"viewBox=\"0 0 24 24\"\n",
              "     width=\"24px\">\n",
              "    <g>\n",
              "        <path d=\"M19 3H5c-1.1 0-2 .9-2 2v14c0 1.1.9 2 2 2h14c1.1 0 2-.9 2-2V5c0-1.1-.9-2-2-2zM9 17H7v-7h2v7zm4 0h-2V7h2v10zm4 0h-2v-4h2v4z\"/>\n",
              "    </g>\n",
              "</svg>\n",
              "  </button>\n",
              "\n",
              "<style>\n",
              "  .colab-df-quickchart {\n",
              "      --bg-color: #E8F0FE;\n",
              "      --fill-color: #1967D2;\n",
              "      --hover-bg-color: #E2EBFA;\n",
              "      --hover-fill-color: #174EA6;\n",
              "      --disabled-fill-color: #AAA;\n",
              "      --disabled-bg-color: #DDD;\n",
              "  }\n",
              "\n",
              "  [theme=dark] .colab-df-quickchart {\n",
              "      --bg-color: #3B4455;\n",
              "      --fill-color: #D2E3FC;\n",
              "      --hover-bg-color: #434B5C;\n",
              "      --hover-fill-color: #FFFFFF;\n",
              "      --disabled-bg-color: #3B4455;\n",
              "      --disabled-fill-color: #666;\n",
              "  }\n",
              "\n",
              "  .colab-df-quickchart {\n",
              "    background-color: var(--bg-color);\n",
              "    border: none;\n",
              "    border-radius: 50%;\n",
              "    cursor: pointer;\n",
              "    display: none;\n",
              "    fill: var(--fill-color);\n",
              "    height: 32px;\n",
              "    padding: 0;\n",
              "    width: 32px;\n",
              "  }\n",
              "\n",
              "  .colab-df-quickchart:hover {\n",
              "    background-color: var(--hover-bg-color);\n",
              "    box-shadow: 0 1px 2px rgba(60, 64, 67, 0.3), 0 1px 3px 1px rgba(60, 64, 67, 0.15);\n",
              "    fill: var(--button-hover-fill-color);\n",
              "  }\n",
              "\n",
              "  .colab-df-quickchart-complete:disabled,\n",
              "  .colab-df-quickchart-complete:disabled:hover {\n",
              "    background-color: var(--disabled-bg-color);\n",
              "    fill: var(--disabled-fill-color);\n",
              "    box-shadow: none;\n",
              "  }\n",
              "\n",
              "  .colab-df-spinner {\n",
              "    border: 2px solid var(--fill-color);\n",
              "    border-color: transparent;\n",
              "    border-bottom-color: var(--fill-color);\n",
              "    animation:\n",
              "      spin 1s steps(1) infinite;\n",
              "  }\n",
              "\n",
              "  @keyframes spin {\n",
              "    0% {\n",
              "      border-color: transparent;\n",
              "      border-bottom-color: var(--fill-color);\n",
              "      border-left-color: var(--fill-color);\n",
              "    }\n",
              "    20% {\n",
              "      border-color: transparent;\n",
              "      border-left-color: var(--fill-color);\n",
              "      border-top-color: var(--fill-color);\n",
              "    }\n",
              "    30% {\n",
              "      border-color: transparent;\n",
              "      border-left-color: var(--fill-color);\n",
              "      border-top-color: var(--fill-color);\n",
              "      border-right-color: var(--fill-color);\n",
              "    }\n",
              "    40% {\n",
              "      border-color: transparent;\n",
              "      border-right-color: var(--fill-color);\n",
              "      border-top-color: var(--fill-color);\n",
              "    }\n",
              "    60% {\n",
              "      border-color: transparent;\n",
              "      border-right-color: var(--fill-color);\n",
              "    }\n",
              "    80% {\n",
              "      border-color: transparent;\n",
              "      border-right-color: var(--fill-color);\n",
              "      border-bottom-color: var(--fill-color);\n",
              "    }\n",
              "    90% {\n",
              "      border-color: transparent;\n",
              "      border-bottom-color: var(--fill-color);\n",
              "    }\n",
              "  }\n",
              "</style>\n",
              "\n",
              "  <script>\n",
              "    async function quickchart(key) {\n",
              "      const quickchartButtonEl =\n",
              "        document.querySelector('#' + key + ' button');\n",
              "      quickchartButtonEl.disabled = true;  // To prevent multiple clicks.\n",
              "      quickchartButtonEl.classList.add('colab-df-spinner');\n",
              "      try {\n",
              "        const charts = await google.colab.kernel.invokeFunction(\n",
              "            'suggestCharts', [key], {});\n",
              "      } catch (error) {\n",
              "        console.error('Error during call to suggestCharts:', error);\n",
              "      }\n",
              "      quickchartButtonEl.classList.remove('colab-df-spinner');\n",
              "      quickchartButtonEl.classList.add('colab-df-quickchart-complete');\n",
              "    }\n",
              "    (() => {\n",
              "      let quickchartButtonEl =\n",
              "        document.querySelector('#df-6eb09d71-f355-4959-ac15-602502f9358a button');\n",
              "      quickchartButtonEl.style.display =\n",
              "        google.colab.kernel.accessAllowed ? 'block' : 'none';\n",
              "    })();\n",
              "  </script>\n",
              "</div>\n",
              "    </div>\n",
              "  </div>\n"
            ],
            "application/vnd.google.colaboratory.intrinsic+json": {
              "type": "dataframe",
              "variable_name": "data_features",
              "summary": "{\n  \"name\": \"data_features\",\n  \"rows\": 2997,\n  \"fields\": [\n    {\n      \"column\": \"Genre\",\n      \"properties\": {\n        \"dtype\": \"number\",\n        \"std\": 2,\n        \"min\": -1,\n        \"max\": 11,\n        \"num_unique_values\": 13,\n        \"samples\": [\n          -1,\n          9,\n          0\n        ],\n        \"semantic_type\": \"\",\n        \"description\": \"\"\n      }\n    },\n    {\n      \"column\": \"Premiere\",\n      \"properties\": {\n        \"dtype\": \"date\",\n        \"min\": 1577836800,\n        \"max\": 7993728000,\n        \"num_unique_values\": 1336,\n        \"samples\": [\n          1642896000,\n          1670889600,\n          1660867200\n        ],\n        \"semantic_type\": \"\",\n        \"description\": \"\"\n      }\n    },\n    {\n      \"column\": \"Runtime\",\n      \"properties\": {\n        \"dtype\": \"number\",\n        \"std\": 145.23577161920858,\n        \"min\": -53.0,\n        \"max\": 7700.0,\n        \"num_unique_values\": 104,\n        \"samples\": [\n          97.0,\n          84.0,\n          81.0\n        ],\n        \"semantic_type\": \"\",\n        \"description\": \"\"\n      }\n    },\n    {\n      \"column\": \"IMDB Score\",\n      \"properties\": {\n        \"dtype\": \"number\",\n        \"std\": 16.475674458372737,\n        \"min\": 0.333,\n        \"max\": 700.0,\n        \"num_unique_values\": 46,\n        \"samples\": [\n          5.0,\n          3.3,\n          2.2\n        ],\n        \"semantic_type\": \"\",\n        \"description\": \"\"\n      }\n    },\n    {\n      \"column\": \"Language\",\n      \"properties\": {\n        \"dtype\": \"number\",\n        \"std\": 1,\n        \"min\": -1,\n        \"max\": 6,\n        \"num_unique_values\": 8,\n        \"samples\": [\n          1,\n          5,\n          0\n        ],\n        \"semantic_type\": \"\",\n        \"description\": \"\"\n      }\n    }\n  ]\n}"
            }
          },
          "metadata": {},
          "execution_count": 211
        }
      ]
    },
    {
      "cell_type": "markdown",
      "source": [
        "### outlier_std"
      ],
      "metadata": {
        "id": "jJEt84LsGTwn"
      }
    },
    {
      "cell_type": "code",
      "source": [
        "def outlier_std(data, col, threshold=3):\n",
        "    mean = data[col].mean()\n",
        "    std = data[col].std()\n",
        "    up_bound = mean + threshold * std\n",
        "    low_bound = mean - threshold * std\n",
        "    anomalies = pd.concat([data[col]>up_bound, data[col]<low_bound], axis=1).any(axis=1)\n",
        "    return anomalies, up_bound, low_bound"
      ],
      "metadata": {
        "id": "qh5nQHxDJptg"
      },
      "execution_count": null,
      "outputs": []
    },
    {
      "cell_type": "markdown",
      "source": [
        "### outlier_iqr"
      ],
      "metadata": {
        "id": "Vj9wHlBlGwu7"
      }
    },
    {
      "cell_type": "code",
      "source": [
        "def outlier_iqr(data, col, threshold=1.5):\n",
        "    IQR = data[col].quantile(0.75) - data[col].quantile(0.25)\n",
        "    up_bound = data[col].quantile(0.75) + (IQR * threshold)\n",
        "    low_bound = data[col].quantile(0.25) - (IQR * threshold)\n",
        "    anomalies = pd.concat([data[col]>up_bound, data[col]<low_bound], axis=1).any(axis=1)\n",
        "    return anomalies, up_bound, low_bound"
      ],
      "metadata": {
        "id": "PhZLPAJRJs2C"
      },
      "execution_count": null,
      "outputs": []
    },
    {
      "cell_type": "code",
      "source": [
        "def get_column_outliers(data, function, columns=None, threshold=3):\n",
        "    if columns:\n",
        "        columns_to_check = columns\n",
        "    else:\n",
        "        columns_to_check = data.columns\n",
        "\n",
        "    outliers = pd.Series(data=[False]*len(data), index=data_features.index, name='is_outlier')\n",
        "    comparison_table = {}\n",
        "    for column in columns_to_check:\n",
        "        anomalies, upper_bound, lower_bound = function(data, column, threshold=threshold)\n",
        "        comparison_table[column] = [upper_bound, lower_bound, sum(anomalies), 100*sum(anomalies)/len(anomalies)]\n",
        "        outliers[anomalies[anomalies].index] = True\n",
        "\n",
        "    comparison_table = pd.DataFrame(comparison_table).T\n",
        "    comparison_table.columns=['upper_bound', 'lower_bound', 'anomalies_count', 'anomalies_percentage']\n",
        "    comparison_table = comparison_table.sort_values(by='anomalies_percentage', ascending=False)\n",
        "\n",
        "    return comparison_table, outliers\n",
        "\n",
        "def anomalies_report(outliers):\n",
        "    print(\"Total number of outliers: {}\\nPercentage of outliers:   {:.2f}%\".format(\n",
        "            sum(outliers), 100*sum(outliers)/len(outliers)))"
      ],
      "metadata": {
        "id": "-qMuz3ZEJv6f"
      },
      "execution_count": null,
      "outputs": []
    },
    {
      "cell_type": "code",
      "source": [
        "# def get_anomalies(data, function, del_anomaly: bool):\n",
        "#   comparison_table, std_outliers = get_column_outliers(data, function)\n",
        "#   indexes = list(std_outliers[std_outliers == True].index)\n",
        "#   if not del_anomaly:\n",
        "#     return indexes\n",
        "#   data = data.drop(indexes)\n",
        "#   return data"
      ],
      "metadata": {
        "id": "gYc5131CIwoe"
      },
      "execution_count": null,
      "outputs": []
    },
    {
      "cell_type": "code",
      "source": [
        "# data = get_anomalies(data_features, outlier_std, True)\n",
        "# data.info()"
      ],
      "metadata": {
        "id": "dkVNelFQELYT"
      },
      "execution_count": null,
      "outputs": []
    },
    {
      "cell_type": "code",
      "source": [
        "comparison_table, std_outliers = get_column_outliers(data_features, outlier_std)\n",
        "anomalies_report(std_outliers)"
      ],
      "metadata": {
        "colab": {
          "base_uri": "https://localhost:8080/"
        },
        "id": "VXuPIiNn9g7N",
        "outputId": "f609b651-38d2-43aa-9f41-59d50b27d5d0"
      },
      "execution_count": null,
      "outputs": [
        {
          "output_type": "stream",
          "name": "stdout",
          "text": [
            "Total number of outliers: 9\n",
            "Percentage of outliers:   0.30%\n"
          ]
        }
      ]
    },
    {
      "cell_type": "code",
      "source": [
        "comparison_table, iqr_outliers = get_column_outliers(data_features, function=outlier_iqr)\n",
        "anomalies_report(iqr_outliers)"
      ],
      "metadata": {
        "colab": {
          "base_uri": "https://localhost:8080/"
        },
        "id": "hBYZiN-NLb0z",
        "outputId": "9b8e233d-10ed-47ab-a8d8-4a0edc0aef40"
      },
      "execution_count": null,
      "outputs": [
        {
          "output_type": "stream",
          "name": "stdout",
          "text": [
            "Total number of outliers: 9\n",
            "Percentage of outliers:   0.30%\n"
          ]
        }
      ]
    },
    {
      "cell_type": "markdown",
      "source": [
        "### Кластеризация"
      ],
      "metadata": {
        "id": "zIPTBNLRHn72"
      }
    },
    {
      "cell_type": "markdown",
      "source": [
        "#### Distance-based"
      ],
      "metadata": {
        "id": "2A6oRXNkHqDX"
      }
    },
    {
      "cell_type": "code",
      "source": [
        "from sklearn.base import BaseEstimator\n",
        "from scipy.spatial.distance import cdist\n",
        "from sklearn.preprocessing import RobustScaler\n",
        "\n",
        "class DistanceOutliers(BaseEstimator):\n",
        "    \"\"\"\n",
        "    -----------\n",
        "    Parameters:\n",
        "\n",
        "    - metric: string, default - euclidean\n",
        "        metric to use for distance calculation (see scipy.spatial.distance.cdist)\n",
        "\n",
        "    - percentile: float in range [0, 100]\n",
        "        hyperparameter which sets the threshold for anomalies\n",
        "    \"\"\"\n",
        "    def __init__(self, metric='euclidean', percentile=90):\n",
        "        self.metric = metric\n",
        "        self.percentile = percentile\n",
        "\n",
        "    def fit(self, X):\n",
        "        self.centroid = np.mean(X, axis=0).values.reshape(-1, 1).T\n",
        "        distances_train = cdist(self.centroid, X, metric=self.metric).reshape(-1)\n",
        "        self.threshold = np.percentile(distances_train, self.percentile)\n",
        "\n",
        "    def predict(self, X):\n",
        "        distances = cdist(self.centroid, X, metric=self.metric).reshape(-1)\n",
        "        predictions = (distances > self.threshold).astype(int)\n",
        "        return predictions"
      ],
      "metadata": {
        "id": "ratIAvYU-VBd"
      },
      "execution_count": null,
      "outputs": []
    },
    {
      "cell_type": "code",
      "source": [
        "scaler = RobustScaler()\n",
        "scaled_data = pd.DataFrame(\n",
        "    data=scaler.fit_transform(data_features),\n",
        "    columns=data_features.columns\n",
        ")"
      ],
      "metadata": {
        "id": "hyjvZjrjHt2g"
      },
      "execution_count": null,
      "outputs": []
    },
    {
      "cell_type": "code",
      "source": [
        "euclidian_model = DistanceOutliers(metric='euclidean')\n",
        "euclidian_model.fit(scaled_data)\n",
        "euclidian_outliers = euclidian_model.predict(scaled_data)\n",
        "anomalies_report(euclidian_outliers)"
      ],
      "metadata": {
        "colab": {
          "base_uri": "https://localhost:8080/"
        },
        "id": "gLj1Y_IoH8Nw",
        "outputId": "b4b1eb0c-6108-45bf-a942-dfefce93d02c"
      },
      "execution_count": null,
      "outputs": [
        {
          "output_type": "stream",
          "name": "stdout",
          "text": [
            "Total number of outliers: 300\n",
            "Percentage of outliers:   10.02%\n"
          ]
        }
      ]
    },
    {
      "cell_type": "code",
      "source": [
        "citiblock_model = DistanceOutliers(metric='cityblock')\n",
        "citiblock_model.fit(scaled_data)\n",
        "cityblock_outliers = citiblock_model.predict(scaled_data)\n",
        "anomalies_report(cityblock_outliers)\n",
        "\n",
        "labeled_data = data_features.copy()\n",
        "labeled_data['is_outlier'] = cityblock_outliers"
      ],
      "metadata": {
        "colab": {
          "base_uri": "https://localhost:8080/"
        },
        "id": "g0zBskKqIC2r",
        "outputId": "116f25ff-68d2-4e21-900d-87e471f9e2ed"
      },
      "execution_count": null,
      "outputs": [
        {
          "output_type": "stream",
          "name": "stdout",
          "text": [
            "Total number of outliers: 300\n",
            "Percentage of outliers:   10.02%\n"
          ]
        }
      ]
    },
    {
      "cell_type": "markdown",
      "source": [
        "## DB-SCAN"
      ],
      "metadata": {
        "id": "ijTR-RFbKFPJ"
      }
    },
    {
      "cell_type": "code",
      "source": [
        "from sklearn.cluster import DBSCAN\n",
        "\n",
        "# для начала считаем все наблюдения аномальными\n",
        "outlier_percentage = 1.\n",
        "\n",
        "num_clusters = []\n",
        "anomaly_percentage = []\n",
        "\n",
        "# берем маленький эпсилон и начинаем увеличивать\n",
        "eps = 0.05\n",
        "eps_history = [eps]\n",
        "while outlier_percentage>0.1:\n",
        "    model = DBSCAN(eps=eps).fit(scaled_data)\n",
        "    labels = model.labels_\n",
        "    num_clusters.append(len(np.unique(labels))-1)\n",
        "    labels = np.array([1 if label == -1 else 0 for label in labels])\n",
        "    # считаем текущий процент \"шума\"\n",
        "    outlier_percentage = sum(labels==1) / len(labels)\n",
        "    eps += 0.05\n",
        "    eps_history.append(eps)\n",
        "    anomaly_percentage.append(outlier_percentage)\n",
        "\n",
        "model = DBSCAN(eps)\n",
        "model.fit(scaled_data)\n",
        "density_outlier = np.array([1 if label == -1 else 0 for label in model.labels_])"
      ],
      "metadata": {
        "id": "ouduVTutJwhA"
      },
      "execution_count": null,
      "outputs": []
    },
    {
      "cell_type": "code",
      "source": [
        "eps"
      ],
      "metadata": {
        "colab": {
          "base_uri": "https://localhost:8080/"
        },
        "id": "XvmC7JiLKaky",
        "outputId": "1952cc89-229c-482b-c006-358a3022a539"
      },
      "execution_count": null,
      "outputs": [
        {
          "output_type": "execute_result",
          "data": {
            "text/plain": [
              "0.49999999999999994"
            ]
          },
          "metadata": {},
          "execution_count": 232
        }
      ]
    },
    {
      "cell_type": "code",
      "source": [
        "anomalies_report(density_outlier)"
      ],
      "metadata": {
        "colab": {
          "base_uri": "https://localhost:8080/"
        },
        "id": "GTN0X4U0Kp6o",
        "outputId": "cc796430-a22c-4cd1-f6fc-20a58695d4ab"
      },
      "execution_count": null,
      "outputs": [
        {
          "output_type": "stream",
          "name": "stdout",
          "text": [
            "Total number of outliers: 43\n",
            "Percentage of outliers:   1.44%\n"
          ]
        }
      ]
    },
    {
      "cell_type": "markdown",
      "source": [
        "#### OneClass SVM"
      ],
      "metadata": {
        "id": "ZZEgIyLBK3zj"
      }
    },
    {
      "cell_type": "code",
      "source": [
        "from sklearn.svm import OneClassSVM\n",
        "\n",
        "one_class_svm = OneClassSVM(nu=0.05, gamma='auto')\n",
        "one_class_svm.fit(scaled_data)\n",
        "svm_outliers = one_class_svm.predict(scaled_data)\n",
        "svm_outliers = np.array([1 if label == -1 else 0 for label in svm_outliers])"
      ],
      "metadata": {
        "id": "_T6MgipAK6L0"
      },
      "execution_count": null,
      "outputs": []
    },
    {
      "cell_type": "code",
      "source": [
        "anomalies_report(svm_outliers)"
      ],
      "metadata": {
        "colab": {
          "base_uri": "https://localhost:8080/"
        },
        "id": "wG8dU7raK9t_",
        "outputId": "249af9c9-9006-4ff3-cfc5-5a792b422774"
      },
      "execution_count": null,
      "outputs": [
        {
          "output_type": "stream",
          "name": "stdout",
          "text": [
            "Total number of outliers: 153\n",
            "Percentage of outliers:   5.11%\n"
          ]
        }
      ]
    },
    {
      "cell_type": "markdown",
      "source": [
        "#### Isolation Forest"
      ],
      "metadata": {
        "id": "34eSGNHMLGrt"
      }
    },
    {
      "cell_type": "code",
      "source": [
        "from sklearn.ensemble import IsolationForest\n",
        "\n",
        "isolation_forest = IsolationForest(n_estimators=100, contamination=0.05,\n",
        "                                   max_features=1.0, bootstrap=True)\n",
        "isolation_forest.fit(scaled_data)\n",
        "\n",
        "isolation_outliers = isolation_forest.predict(scaled_data)\n",
        "isolation_outliers = np.array([1 if label == -1 else 0 for label in isolation_outliers])"
      ],
      "metadata": {
        "id": "pzXwB_7FK_08"
      },
      "execution_count": null,
      "outputs": []
    },
    {
      "cell_type": "code",
      "source": [
        "anomalies_report(isolation_outliers)"
      ],
      "metadata": {
        "colab": {
          "base_uri": "https://localhost:8080/"
        },
        "id": "ZY48VqfHLJ9I",
        "outputId": "4f609859-a257-4527-c833-a846446ebf81"
      },
      "execution_count": null,
      "outputs": [
        {
          "output_type": "stream",
          "name": "stdout",
          "text": [
            "Total number of outliers: 150\n",
            "Percentage of outliers:   5.01%\n"
          ]
        }
      ]
    },
    {
      "cell_type": "markdown",
      "source": [
        "# Финальное сравнение"
      ],
      "metadata": {
        "id": "l9B8ztUnLPFh"
      }
    },
    {
      "cell_type": "code",
      "source": [
        "summary = np.concatenate((\n",
        "    [std_outliers],\n",
        "    [iqr_outliers],\n",
        "    [euclidian_outliers],\n",
        "    [cityblock_outliers],\n",
        "    [density_outlier],\n",
        "    [svm_outliers],\n",
        "    [isolation_outliers]\n",
        "))"
      ],
      "metadata": {
        "colab": {
          "base_uri": "https://localhost:8080/",
          "height": 228
        },
        "id": "e2c27Td5LK40",
        "outputId": "0e6260aa-50c7-4116-f2f3-7a6d0a4773a3"
      },
      "execution_count": null,
      "outputs": [
        {
          "output_type": "error",
          "ename": "ValueError",
          "evalue": "all the input array dimensions except for the concatenation axis must match exactly, but along dimension 1, the array at index 0 has size 2997 and the array at index 2 has size 2994",
          "traceback": [
            "\u001b[0;31m---------------------------------------------------------------------------\u001b[0m",
            "\u001b[0;31mValueError\u001b[0m                                Traceback (most recent call last)",
            "\u001b[0;32m<ipython-input-238-22d0e717f038>\u001b[0m in \u001b[0;36m<cell line: 1>\u001b[0;34m()\u001b[0m\n\u001b[0;32m----> 1\u001b[0;31m summary = np.concatenate((\n\u001b[0m\u001b[1;32m      2\u001b[0m     \u001b[0;34m[\u001b[0m\u001b[0mstd_outliers\u001b[0m\u001b[0;34m]\u001b[0m\u001b[0;34m,\u001b[0m\u001b[0;34m\u001b[0m\u001b[0;34m\u001b[0m\u001b[0m\n\u001b[1;32m      3\u001b[0m     \u001b[0;34m[\u001b[0m\u001b[0miqr_outliers\u001b[0m\u001b[0;34m]\u001b[0m\u001b[0;34m,\u001b[0m\u001b[0;34m\u001b[0m\u001b[0;34m\u001b[0m\u001b[0m\n\u001b[1;32m      4\u001b[0m     \u001b[0;34m[\u001b[0m\u001b[0meuclidian_outliers\u001b[0m\u001b[0;34m]\u001b[0m\u001b[0;34m,\u001b[0m\u001b[0;34m\u001b[0m\u001b[0;34m\u001b[0m\u001b[0m\n\u001b[1;32m      5\u001b[0m     \u001b[0;34m[\u001b[0m\u001b[0mcityblock_outliers\u001b[0m\u001b[0;34m]\u001b[0m\u001b[0;34m,\u001b[0m\u001b[0;34m\u001b[0m\u001b[0;34m\u001b[0m\u001b[0m\n",
            "\u001b[0;31mValueError\u001b[0m: all the input array dimensions except for the concatenation axis must match exactly, but along dimension 1, the array at index 0 has size 2997 and the array at index 2 has size 2994"
          ]
        }
      ]
    },
    {
      "cell_type": "code",
      "source": [],
      "metadata": {
        "id": "SRfRIHVfM73a"
      },
      "execution_count": null,
      "outputs": []
    }
  ]
}